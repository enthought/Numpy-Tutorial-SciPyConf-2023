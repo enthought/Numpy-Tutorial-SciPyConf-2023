{
 "cells": [
  {
   "cell_type": "code",
   "execution_count": 1,
   "id": "c9e8d4d3-c890-42ab-ab9b-857375e4d2d4",
   "metadata": {
    "tags": []
   },
   "outputs": [],
   "source": [
    "import numpy as np"
   ]
  },
  {
   "cell_type": "code",
   "execution_count": 2,
   "id": "8b094b26-3c99-4452-a849-550620bd4a02",
   "metadata": {
    "tags": []
   },
   "outputs": [],
   "source": [
    "a = [1,2,3]\n",
    "b = [4,5,6]"
   ]
  },
  {
   "cell_type": "code",
   "execution_count": 3,
   "id": "b2b3372d-8ad5-4142-aa0f-ebac2f93379f",
   "metadata": {
    "tags": []
   },
   "outputs": [
    {
     "data": {
      "text/plain": [
       "[1, 2, 3, 4, 5, 6]"
      ]
     },
     "execution_count": 3,
     "metadata": {},
     "output_type": "execute_result"
    }
   ],
   "source": [
    "a + b"
   ]
  },
  {
   "cell_type": "code",
   "execution_count": 4,
   "id": "95fa745b-44b4-4aff-9ccb-2a9f609293f4",
   "metadata": {
    "tags": []
   },
   "outputs": [
    {
     "data": {
      "text/plain": [
       "[5, 7, 9]"
      ]
     },
     "execution_count": 4,
     "metadata": {},
     "output_type": "execute_result"
    }
   ],
   "source": [
    "result = []\n",
    "for i, j in zip(a,b):\n",
    "    result.append(i+j)\n",
    "result"
   ]
  },
  {
   "cell_type": "code",
   "execution_count": 5,
   "id": "b04a82dd-4d1b-42ed-a49d-8b740b3a3283",
   "metadata": {
    "tags": []
   },
   "outputs": [],
   "source": [
    "arr_a = np.array(a)\n",
    "arr_b = np.array(b)"
   ]
  },
  {
   "cell_type": "code",
   "execution_count": 6,
   "id": "25dfb5b3-21fc-47b2-9650-7eaac7b913bc",
   "metadata": {
    "tags": []
   },
   "outputs": [
    {
     "data": {
      "text/plain": [
       "array([5, 7, 9])"
      ]
     },
     "execution_count": 6,
     "metadata": {},
     "output_type": "execute_result"
    }
   ],
   "source": [
    "arr_a + arr_b"
   ]
  },
  {
   "cell_type": "code",
   "execution_count": 7,
   "id": "e0887768-09a6-4d18-acc6-76775d7d429e",
   "metadata": {
    "tags": []
   },
   "outputs": [
    {
     "data": {
      "text/plain": [
       "numpy.ndarray"
      ]
     },
     "execution_count": 7,
     "metadata": {},
     "output_type": "execute_result"
    }
   ],
   "source": [
    "type(arr_a)\n",
    "\n"
   ]
  },
  {
   "cell_type": "code",
   "execution_count": 8,
   "id": "c14a282f-a001-4fd4-b4a8-92d86fa18f85",
   "metadata": {
    "tags": []
   },
   "outputs": [
    {
     "data": {
      "text/plain": [
       "3"
      ]
     },
     "execution_count": 8,
     "metadata": {},
     "output_type": "execute_result"
    }
   ],
   "source": [
    "arr_a.size"
   ]
  },
  {
   "cell_type": "code",
   "execution_count": 9,
   "id": "f1f6eff9-3970-45d4-bb94-46d88af2eab2",
   "metadata": {
    "tags": []
   },
   "outputs": [
    {
     "data": {
      "text/plain": [
       "(3,)"
      ]
     },
     "execution_count": 9,
     "metadata": {},
     "output_type": "execute_result"
    }
   ],
   "source": [
    "arr_a.shape"
   ]
  },
  {
   "cell_type": "code",
   "execution_count": 10,
   "id": "48e63753-fe59-4c41-b24b-cf624f17a4b2",
   "metadata": {
    "tags": []
   },
   "outputs": [
    {
     "data": {
      "text/plain": [
       "1"
      ]
     },
     "execution_count": 10,
     "metadata": {},
     "output_type": "execute_result"
    }
   ],
   "source": [
    "arr_a.ndim"
   ]
  },
  {
   "cell_type": "code",
   "execution_count": 14,
   "id": "c91c6bc4-b7dc-4dad-ba83-06e068e2d260",
   "metadata": {
    "tags": []
   },
   "outputs": [
    {
     "data": {
      "text/plain": [
       "array([0.84147098, 0.90929743, 0.14112001])"
      ]
     },
     "execution_count": 14,
     "metadata": {},
     "output_type": "execute_result"
    }
   ],
   "source": [
    "np.sin(arr_a)"
   ]
  },
  {
   "cell_type": "code",
   "execution_count": 15,
   "id": "2c42407a-ca76-40d1-9e5b-d514d7625c96",
   "metadata": {
    "tags": []
   },
   "outputs": [
    {
     "data": {
      "text/plain": [
       "array([1, 2, 3])"
      ]
     },
     "execution_count": 15,
     "metadata": {},
     "output_type": "execute_result"
    }
   ],
   "source": [
    "np.abs(arr_a)"
   ]
  },
  {
   "cell_type": "code",
   "execution_count": 16,
   "id": "ee59ebd3-9a82-4441-a48f-c4e140a298b0",
   "metadata": {
    "tags": []
   },
   "outputs": [
    {
     "data": {
      "text/plain": [
       "array([3, 6, 9])"
      ]
     },
     "execution_count": 16,
     "metadata": {},
     "output_type": "execute_result"
    }
   ],
   "source": [
    "arr_a * 3\n"
   ]
  },
  {
   "cell_type": "code",
   "execution_count": 17,
   "id": "c9d4a43d-d47c-41f1-844f-2c209ed6adb9",
   "metadata": {
    "tags": []
   },
   "outputs": [
    {
     "data": {
      "text/plain": [
       "array([1, 1, 2])"
      ]
     },
     "execution_count": 17,
     "metadata": {},
     "output_type": "execute_result"
    }
   ],
   "source": [
    "arr_b // 3"
   ]
  },
  {
   "cell_type": "code",
   "execution_count": 19,
   "id": "de02b153-ea35-4e7c-a233-d4b9744b6d64",
   "metadata": {
    "tags": []
   },
   "outputs": [
    {
     "data": {
      "text/plain": [
       "array([1, 2, 0])"
      ]
     },
     "execution_count": 19,
     "metadata": {},
     "output_type": "execute_result"
    }
   ],
   "source": [
    "arr_b % 3"
   ]
  },
  {
   "cell_type": "code",
   "execution_count": 20,
   "id": "eda99bb1-2883-4069-850b-8f6d230e96ad",
   "metadata": {
    "tags": []
   },
   "outputs": [
    {
     "data": {
      "text/plain": [
       "array([4, 5, 6])"
      ]
     },
     "execution_count": 20,
     "metadata": {},
     "output_type": "execute_result"
    }
   ],
   "source": [
    "arr_b"
   ]
  },
  {
   "cell_type": "code",
   "execution_count": 21,
   "id": "63a8cae0-0d64-4efa-b5e4-d49384ad306e",
   "metadata": {
    "tags": []
   },
   "outputs": [],
   "source": [
    "py_list_c = [1, 'a', 1.0, [4,5,6]]"
   ]
  },
  {
   "cell_type": "code",
   "execution_count": 22,
   "id": "7fd694e2-941d-477c-8bf3-a4d74735db12",
   "metadata": {
    "tags": []
   },
   "outputs": [
    {
     "data": {
      "text/plain": [
       "[1, 'a', 1.0, [4, 5, 6], 90]"
      ]
     },
     "execution_count": 22,
     "metadata": {},
     "output_type": "execute_result"
    }
   ],
   "source": [
    "py_list_c.append(90)\n",
    "py_list_c"
   ]
  },
  {
   "cell_type": "code",
   "execution_count": 23,
   "id": "cb893096-ecdd-489d-a216-505eb16aa60a",
   "metadata": {
    "tags": []
   },
   "outputs": [
    {
     "data": {
      "text/plain": [
       "array([1, 2, 3])"
      ]
     },
     "execution_count": 23,
     "metadata": {},
     "output_type": "execute_result"
    }
   ],
   "source": [
    "arr_a"
   ]
  },
  {
   "cell_type": "code",
   "execution_count": 24,
   "id": "fc298bfe-1e9a-4ced-baa6-f7b2b4732745",
   "metadata": {
    "tags": []
   },
   "outputs": [
    {
     "data": {
      "text/plain": [
       "dtype('int64')"
      ]
     },
     "execution_count": 24,
     "metadata": {},
     "output_type": "execute_result"
    }
   ],
   "source": [
    "arr_a.dtype"
   ]
  },
  {
   "cell_type": "code",
   "execution_count": 25,
   "id": "cb64c8a8-0b76-4dda-bc7e-cc3a2bb57f2b",
   "metadata": {
    "tags": []
   },
   "outputs": [],
   "source": [
    "arr_c = np.array([1.0, 3.4, 5.6])"
   ]
  },
  {
   "cell_type": "code",
   "execution_count": 26,
   "id": "21ce401e-4d7a-4fc3-ac32-9ead75cc39cc",
   "metadata": {
    "tags": []
   },
   "outputs": [
    {
     "data": {
      "text/plain": [
       "dtype('float64')"
      ]
     },
     "execution_count": 26,
     "metadata": {},
     "output_type": "execute_result"
    }
   ],
   "source": [
    "arr_c.dtype"
   ]
  },
  {
   "cell_type": "code",
   "execution_count": 27,
   "id": "acc322ae-1001-455e-b283-13360b07099a",
   "metadata": {
    "tags": []
   },
   "outputs": [
    {
     "data": {
      "text/plain": [
       "array([1, 2, 3])"
      ]
     },
     "execution_count": 27,
     "metadata": {},
     "output_type": "execute_result"
    }
   ],
   "source": [
    "arr_a"
   ]
  },
  {
   "cell_type": "code",
   "execution_count": 28,
   "id": "9f9a7793-7153-4c2a-a2c2-8881e39db1b8",
   "metadata": {
    "tags": []
   },
   "outputs": [
    {
     "data": {
      "text/plain": [
       "1"
      ]
     },
     "execution_count": 28,
     "metadata": {},
     "output_type": "execute_result"
    }
   ],
   "source": [
    "arr_a[0]"
   ]
  },
  {
   "cell_type": "code",
   "execution_count": 29,
   "id": "c2a31fe7-81ee-4bd0-b3ca-c96873c3de62",
   "metadata": {
    "tags": []
   },
   "outputs": [
    {
     "data": {
      "text/plain": [
       "2"
      ]
     },
     "execution_count": 29,
     "metadata": {},
     "output_type": "execute_result"
    }
   ],
   "source": [
    "arr_a[1]"
   ]
  },
  {
   "cell_type": "code",
   "execution_count": 30,
   "id": "1d181f4a-3dc0-4550-b1d3-8eafc51c4d0b",
   "metadata": {
    "tags": []
   },
   "outputs": [
    {
     "data": {
      "text/plain": [
       "3"
      ]
     },
     "execution_count": 30,
     "metadata": {},
     "output_type": "execute_result"
    }
   ],
   "source": [
    "arr_a[2]"
   ]
  },
  {
   "cell_type": "code",
   "execution_count": 31,
   "id": "8f44a100-fbda-4ab1-9ffe-e7cfabb601a3",
   "metadata": {
    "tags": []
   },
   "outputs": [
    {
     "ename": "IndexError",
     "evalue": "index 3 is out of bounds for axis 0 with size 3",
     "output_type": "error",
     "traceback": [
      "\u001b[0;31m---------------------------------------------------------------------------\u001b[0m",
      "\u001b[0;31mIndexError\u001b[0m                                Traceback (most recent call last)",
      "Cell \u001b[0;32mIn[31], line 1\u001b[0m\n\u001b[0;32m----> 1\u001b[0m arr_a[\u001b[38;5;241m3\u001b[39m]\n",
      "\u001b[0;31mIndexError\u001b[0m: index 3 is out of bounds for axis 0 with size 3"
     ]
    }
   ],
   "source": [
    "arr_a[3]"
   ]
  },
  {
   "cell_type": "code",
   "execution_count": 32,
   "id": "0bb18b8e-08f7-4651-8c40-6c92add28238",
   "metadata": {
    "tags": []
   },
   "outputs": [
    {
     "data": {
      "text/plain": [
       "array([1, 2, 3])"
      ]
     },
     "execution_count": 32,
     "metadata": {},
     "output_type": "execute_result"
    }
   ],
   "source": [
    "arr_a"
   ]
  },
  {
   "cell_type": "code",
   "execution_count": 33,
   "id": "e7c9888b-d9eb-41d9-a5fe-978c7a6b5920",
   "metadata": {
    "tags": []
   },
   "outputs": [
    {
     "data": {
      "text/plain": [
       "array([ 1,  2, 99])"
      ]
     },
     "execution_count": 33,
     "metadata": {},
     "output_type": "execute_result"
    }
   ],
   "source": [
    "arr_a[2] = 99\n",
    "arr_a"
   ]
  },
  {
   "cell_type": "code",
   "execution_count": 34,
   "id": "8a15d8f9-b8a2-4fbd-92e3-99eb8018407f",
   "metadata": {
    "tags": []
   },
   "outputs": [
    {
     "data": {
      "text/plain": [
       "dtype('int64')"
      ]
     },
     "execution_count": 34,
     "metadata": {},
     "output_type": "execute_result"
    }
   ],
   "source": [
    "arr_a.dtype"
   ]
  },
  {
   "cell_type": "code",
   "execution_count": 35,
   "id": "1b015065-ef60-4e1d-a0c0-bdce930842b2",
   "metadata": {
    "tags": []
   },
   "outputs": [],
   "source": [
    "arr_a[1] = 5.4"
   ]
  },
  {
   "cell_type": "code",
   "execution_count": 36,
   "id": "c14b99ad-67c1-40be-bd94-d90e77961f7d",
   "metadata": {
    "tags": []
   },
   "outputs": [
    {
     "data": {
      "text/plain": [
       "array([ 1,  5, 99])"
      ]
     },
     "execution_count": 36,
     "metadata": {},
     "output_type": "execute_result"
    }
   ],
   "source": [
    "arr_a"
   ]
  },
  {
   "cell_type": "code",
   "execution_count": 37,
   "id": "8c41a480-866c-404a-88b6-bb7b3eb07c20",
   "metadata": {
    "tags": []
   },
   "outputs": [
    {
     "data": {
      "text/plain": [
       "dtype('float64')"
      ]
     },
     "execution_count": 37,
     "metadata": {},
     "output_type": "execute_result"
    }
   ],
   "source": [
    "arr_c.dtype"
   ]
  },
  {
   "cell_type": "code",
   "execution_count": 38,
   "id": "a19152ca-cc27-45e9-b55e-71b8d05869a7",
   "metadata": {
    "tags": []
   },
   "outputs": [
    {
     "data": {
      "text/plain": [
       "array([1. , 3.4, 5.6])"
      ]
     },
     "execution_count": 38,
     "metadata": {},
     "output_type": "execute_result"
    }
   ],
   "source": [
    "arr_c"
   ]
  },
  {
   "cell_type": "code",
   "execution_count": 39,
   "id": "a010f278-74a5-4f41-bb81-f91b5b00064e",
   "metadata": {
    "tags": []
   },
   "outputs": [],
   "source": [
    "arr_c[1] = 88"
   ]
  },
  {
   "cell_type": "code",
   "execution_count": 40,
   "id": "a1afa8e0-eae0-4b8e-a5bc-83ebe4240fd0",
   "metadata": {
    "tags": []
   },
   "outputs": [
    {
     "data": {
      "text/plain": [
       "array([ 1. , 88. ,  5.6])"
      ]
     },
     "execution_count": 40,
     "metadata": {},
     "output_type": "execute_result"
    }
   ],
   "source": [
    "arr_c"
   ]
  },
  {
   "cell_type": "code",
   "execution_count": 41,
   "id": "fc14b078-1666-490a-90d9-d5dc13d26611",
   "metadata": {
    "tags": []
   },
   "outputs": [
    {
     "ename": "ValueError",
     "evalue": "could not convert string to float: 'a'",
     "output_type": "error",
     "traceback": [
      "\u001b[0;31m---------------------------------------------------------------------------\u001b[0m",
      "\u001b[0;31mValueError\u001b[0m                                Traceback (most recent call last)",
      "Cell \u001b[0;32mIn[41], line 1\u001b[0m\n\u001b[0;32m----> 1\u001b[0m arr_c[\u001b[38;5;241m1\u001b[39m] \u001b[38;5;241m=\u001b[39m \u001b[38;5;124m'\u001b[39m\u001b[38;5;124ma\u001b[39m\u001b[38;5;124m'\u001b[39m\n",
      "\u001b[0;31mValueError\u001b[0m: could not convert string to float: 'a'"
     ]
    }
   ],
   "source": [
    "arr_c[1] = 'a'"
   ]
  },
  {
   "cell_type": "code",
   "execution_count": 42,
   "id": "93e2b8b8-33b0-444c-9310-7c0d617d77e8",
   "metadata": {
    "tags": []
   },
   "outputs": [
    {
     "data": {
      "text/plain": [
       "array([ 1. , 88. ,  5.6])"
      ]
     },
     "execution_count": 42,
     "metadata": {},
     "output_type": "execute_result"
    }
   ],
   "source": [
    "arr_c"
   ]
  },
  {
   "cell_type": "code",
   "execution_count": 43,
   "id": "6e0707c8-d222-43fe-9ec2-041f4a99692b",
   "metadata": {
    "tags": []
   },
   "outputs": [
    {
     "data": {
      "text/plain": [
       "8"
      ]
     },
     "execution_count": 43,
     "metadata": {},
     "output_type": "execute_result"
    }
   ],
   "source": [
    "arr_c.itemsize"
   ]
  },
  {
   "cell_type": "code",
   "execution_count": 45,
   "id": "72c70539-56c7-4820-97fd-9e758061ea6a",
   "metadata": {
    "tags": []
   },
   "outputs": [
    {
     "data": {
      "text/plain": [
       "array([[1, 2, 3],\n",
       "       [4, 5, 6]])"
      ]
     },
     "execution_count": 45,
     "metadata": {},
     "output_type": "execute_result"
    }
   ],
   "source": [
    "arr_d = np.array([[1,2,3],[4,5,6]])\n",
    "arr_d"
   ]
  },
  {
   "cell_type": "code",
   "execution_count": 46,
   "id": "69f50937-53f1-4eb2-970e-6dba3c820fa7",
   "metadata": {
    "tags": []
   },
   "outputs": [
    {
     "data": {
      "text/plain": [
       "(2, 3)"
      ]
     },
     "execution_count": 46,
     "metadata": {},
     "output_type": "execute_result"
    }
   ],
   "source": [
    "arr_d.shape"
   ]
  },
  {
   "cell_type": "code",
   "execution_count": 48,
   "id": "20d37b09-f79d-48ab-abe3-acd508c4716e",
   "metadata": {
    "tags": []
   },
   "outputs": [
    {
     "data": {
      "text/plain": [
       "array([1, 2, 3])"
      ]
     },
     "execution_count": 48,
     "metadata": {},
     "output_type": "execute_result"
    }
   ],
   "source": [
    "arr_d[0]"
   ]
  },
  {
   "cell_type": "code",
   "execution_count": 49,
   "id": "d9f7b94c-b89e-4efb-9cc0-80e2148ba091",
   "metadata": {
    "tags": []
   },
   "outputs": [
    {
     "data": {
      "text/plain": [
       "2"
      ]
     },
     "execution_count": 49,
     "metadata": {},
     "output_type": "execute_result"
    }
   ],
   "source": [
    "arr_d[0][1]"
   ]
  },
  {
   "cell_type": "code",
   "execution_count": 50,
   "id": "dda14a13-5296-4eab-ab97-994b4a180271",
   "metadata": {
    "tags": []
   },
   "outputs": [
    {
     "data": {
      "text/plain": [
       "2"
      ]
     },
     "execution_count": 50,
     "metadata": {},
     "output_type": "execute_result"
    }
   ],
   "source": [
    "arr_d[0, 1]"
   ]
  },
  {
   "cell_type": "code",
   "execution_count": 51,
   "id": "e6c0bdd5-ae38-42c9-a17d-b61db661a07f",
   "metadata": {
    "tags": []
   },
   "outputs": [
    {
     "data": {
      "text/plain": [
       "array([0, 1, 2, 3, 4, 5, 6, 7, 8, 9])"
      ]
     },
     "execution_count": 51,
     "metadata": {},
     "output_type": "execute_result"
    }
   ],
   "source": [
    "np.arange(10)"
   ]
  },
  {
   "cell_type": "code",
   "execution_count": 52,
   "id": "3a1bd9cc-80af-4127-9897-7151fd903344",
   "metadata": {
    "tags": []
   },
   "outputs": [
    {
     "data": {
      "text/plain": [
       "[0, 1, 2, 3, 4, 5, 6, 7, 8, 9]"
      ]
     },
     "execution_count": 52,
     "metadata": {},
     "output_type": "execute_result"
    }
   ],
   "source": [
    "list(range(10))"
   ]
  },
  {
   "cell_type": "code",
   "execution_count": 53,
   "id": "0901aec5-eba3-4943-8036-6b5eb5d8de5f",
   "metadata": {
    "tags": []
   },
   "outputs": [
    {
     "data": {
      "text/plain": [
       "array([0, 1, 2, 3, 4, 5, 6, 7, 8, 9])"
      ]
     },
     "execution_count": 53,
     "metadata": {},
     "output_type": "execute_result"
    }
   ],
   "source": [
    "arr_f = np.arange(10)\n",
    "arr_f"
   ]
  },
  {
   "cell_type": "code",
   "execution_count": 54,
   "id": "5a37e0b5-2cb0-4a28-be9b-05e5fb777550",
   "metadata": {
    "tags": []
   },
   "outputs": [
    {
     "data": {
      "text/plain": [
       "3"
      ]
     },
     "execution_count": 54,
     "metadata": {},
     "output_type": "execute_result"
    }
   ],
   "source": [
    "arr_f[3]"
   ]
  },
  {
   "cell_type": "code",
   "execution_count": 55,
   "id": "02ddcd4a-258d-4dcc-964a-bf90b5ee97fb",
   "metadata": {
    "tags": []
   },
   "outputs": [
    {
     "data": {
      "text/plain": [
       "10"
      ]
     },
     "execution_count": 55,
     "metadata": {},
     "output_type": "execute_result"
    }
   ],
   "source": [
    "len(arr_f)"
   ]
  },
  {
   "cell_type": "code",
   "execution_count": 56,
   "id": "34b69218-d9a7-43d0-9b2a-e785a172e800",
   "metadata": {
    "tags": []
   },
   "outputs": [
    {
     "data": {
      "text/plain": [
       "9"
      ]
     },
     "execution_count": 56,
     "metadata": {},
     "output_type": "execute_result"
    }
   ],
   "source": [
    "arr_f[9]"
   ]
  },
  {
   "cell_type": "code",
   "execution_count": 57,
   "id": "3114b658-8fa6-40e0-8e94-84104df59790",
   "metadata": {
    "tags": []
   },
   "outputs": [
    {
     "data": {
      "text/plain": [
       "9"
      ]
     },
     "execution_count": 57,
     "metadata": {},
     "output_type": "execute_result"
    }
   ],
   "source": [
    "arr_f[-1]"
   ]
  },
  {
   "cell_type": "code",
   "execution_count": 58,
   "id": "c185329c-92c9-4f13-948e-b71e57d4a1b6",
   "metadata": {
    "tags": []
   },
   "outputs": [
    {
     "data": {
      "text/plain": [
       "7"
      ]
     },
     "execution_count": 58,
     "metadata": {},
     "output_type": "execute_result"
    }
   ],
   "source": [
    "arr_f[-3]"
   ]
  },
  {
   "cell_type": "code",
   "execution_count": 59,
   "id": "2bd7ecf9-f685-4d12-8df9-158548c376db",
   "metadata": {
    "tags": []
   },
   "outputs": [
    {
     "data": {
      "text/plain": [
       "2"
      ]
     },
     "execution_count": 59,
     "metadata": {},
     "output_type": "execute_result"
    }
   ],
   "source": [
    "arr_f[-8]"
   ]
  },
  {
   "cell_type": "code",
   "execution_count": null,
   "id": "8bdaa3ae-2bc8-4cb6-b518-bc98ea0a49c9",
   "metadata": {},
   "outputs": [],
   "source": [
    "# slicing\n",
    "# [start: end: step]\n",
    "# end is not included \n"
   ]
  },
  {
   "cell_type": "code",
   "execution_count": 60,
   "id": "4ecb632c-4462-40bd-8ff6-33660d02febd",
   "metadata": {
    "tags": []
   },
   "outputs": [
    {
     "data": {
      "text/plain": [
       "array([0, 1, 2, 3, 4, 5, 6, 7, 8, 9])"
      ]
     },
     "execution_count": 60,
     "metadata": {},
     "output_type": "execute_result"
    }
   ],
   "source": [
    "arr_f"
   ]
  },
  {
   "cell_type": "code",
   "execution_count": 61,
   "id": "124de8cd-f38c-497d-b128-7d5cc48d5ab3",
   "metadata": {
    "tags": []
   },
   "outputs": [
    {
     "data": {
      "text/plain": [
       "array([0, 1, 2, 3, 4, 5, 6])"
      ]
     },
     "execution_count": 61,
     "metadata": {},
     "output_type": "execute_result"
    }
   ],
   "source": [
    "arr_f[0: 7: 1]"
   ]
  },
  {
   "cell_type": "code",
   "execution_count": 62,
   "id": "b11607f4-5630-4818-8e31-bafd831eeb4c",
   "metadata": {
    "tags": []
   },
   "outputs": [
    {
     "data": {
      "text/plain": [
       "array([0, 1, 2, 3, 4, 5, 6])"
      ]
     },
     "execution_count": 62,
     "metadata": {},
     "output_type": "execute_result"
    }
   ],
   "source": [
    "arr_f[0:7]"
   ]
  },
  {
   "cell_type": "code",
   "execution_count": 63,
   "id": "f7e6dc84-19ff-4e24-bc2b-a4442307318c",
   "metadata": {
    "tags": []
   },
   "outputs": [
    {
     "data": {
      "text/plain": [
       "array([0, 1, 2, 3, 4, 5, 6])"
      ]
     },
     "execution_count": 63,
     "metadata": {},
     "output_type": "execute_result"
    }
   ],
   "source": [
    "arr_f[:7]"
   ]
  },
  {
   "cell_type": "code",
   "execution_count": 64,
   "id": "94960228-822a-4cca-9267-a9a81682f749",
   "metadata": {
    "tags": []
   },
   "outputs": [
    {
     "data": {
      "text/plain": [
       "array([0, 1, 2, 3, 4, 5, 6, 7, 8, 9])"
      ]
     },
     "execution_count": 64,
     "metadata": {},
     "output_type": "execute_result"
    }
   ],
   "source": [
    "arr_f[:]"
   ]
  },
  {
   "cell_type": "code",
   "execution_count": 65,
   "id": "0588df10-14ec-41e1-affc-b382477a7073",
   "metadata": {
    "tags": []
   },
   "outputs": [
    {
     "data": {
      "text/plain": [
       "array([9, 8, 7, 6, 5, 4, 3, 2, 1, 0])"
      ]
     },
     "execution_count": 65,
     "metadata": {},
     "output_type": "execute_result"
    }
   ],
   "source": [
    "arr_f[::-1]"
   ]
  },
  {
   "cell_type": "code",
   "execution_count": 66,
   "id": "1aea9032-e25b-41e6-8baa-9d1c72955b05",
   "metadata": {
    "tags": []
   },
   "outputs": [
    {
     "data": {
      "text/plain": [
       "array([0, 2, 4, 6, 8])"
      ]
     },
     "execution_count": 66,
     "metadata": {},
     "output_type": "execute_result"
    }
   ],
   "source": [
    "arr_f[::2]"
   ]
  },
  {
   "cell_type": "code",
   "execution_count": 67,
   "id": "876ff500-1566-47d4-960a-7059e82985ba",
   "metadata": {
    "tags": []
   },
   "outputs": [
    {
     "data": {
      "text/plain": [
       "array([1, 3, 5, 7, 9])"
      ]
     },
     "execution_count": 67,
     "metadata": {},
     "output_type": "execute_result"
    }
   ],
   "source": [
    "arr_f[1::2]"
   ]
  },
  {
   "cell_type": "code",
   "execution_count": 68,
   "id": "9b6ae113-e3f8-42c0-b4cd-966f2ad67757",
   "metadata": {
    "tags": []
   },
   "outputs": [
    {
     "data": {
      "text/plain": [
       "array([1, 3, 5, 7, 9])"
      ]
     },
     "execution_count": 68,
     "metadata": {},
     "output_type": "execute_result"
    }
   ],
   "source": [
    "arr_g = arr_f[1::2]\n",
    "arr_g"
   ]
  },
  {
   "cell_type": "code",
   "execution_count": 69,
   "id": "03338df1-e24a-4188-a2f0-9dc88a9c06ce",
   "metadata": {
    "tags": []
   },
   "outputs": [
    {
     "data": {
      "text/plain": [
       "array([ 1,  3, 99,  7,  9])"
      ]
     },
     "execution_count": 69,
     "metadata": {},
     "output_type": "execute_result"
    }
   ],
   "source": [
    "arr_g[2] = 99\n",
    "arr_g"
   ]
  },
  {
   "cell_type": "code",
   "execution_count": 70,
   "id": "f2820f75-9e4e-4197-9f87-cd08607e2d7a",
   "metadata": {
    "tags": []
   },
   "outputs": [
    {
     "data": {
      "text/plain": [
       "array([ 0,  1,  2,  3,  4, 99,  6,  7,  8,  9])"
      ]
     },
     "execution_count": 70,
     "metadata": {},
     "output_type": "execute_result"
    }
   ],
   "source": [
    "arr_f"
   ]
  },
  {
   "cell_type": "code",
   "execution_count": 71,
   "id": "005ff6bc-7b96-4db7-9d28-d82ffde20122",
   "metadata": {
    "tags": []
   },
   "outputs": [],
   "source": [
    "arr_h = arr_f[1::2].copy()"
   ]
  },
  {
   "cell_type": "code",
   "execution_count": 72,
   "id": "a40946d5-8a98-4797-8baf-cb08eb4321db",
   "metadata": {
    "tags": []
   },
   "outputs": [
    {
     "data": {
      "text/plain": [
       "array([ 1,  3, 99,  7,  9])"
      ]
     },
     "execution_count": 72,
     "metadata": {},
     "output_type": "execute_result"
    }
   ],
   "source": [
    "arr_h"
   ]
  },
  {
   "cell_type": "code",
   "execution_count": 73,
   "id": "56469893-d2da-4f4b-b6c1-aad35c2ec910",
   "metadata": {
    "tags": []
   },
   "outputs": [
    {
     "data": {
      "text/plain": [
       "array([  1,   3, 888,   7,   9])"
      ]
     },
     "execution_count": 73,
     "metadata": {},
     "output_type": "execute_result"
    }
   ],
   "source": [
    "arr_h[2] = 888\n",
    "arr_h"
   ]
  },
  {
   "cell_type": "code",
   "execution_count": 74,
   "id": "d02aee42-769f-4537-a311-cfedd7e364d9",
   "metadata": {
    "tags": []
   },
   "outputs": [
    {
     "data": {
      "text/plain": [
       "array([ 0,  1,  2,  3,  4, 99,  6,  7,  8,  9])"
      ]
     },
     "execution_count": 74,
     "metadata": {},
     "output_type": "execute_result"
    }
   ],
   "source": [
    "arr_f"
   ]
  },
  {
   "cell_type": "code",
   "execution_count": 76,
   "id": "2cec187a-3e41-494f-8dc9-eef0645bde76",
   "metadata": {
    "tags": []
   },
   "outputs": [
    {
     "data": {
      "text/plain": [
       "array([[ 0,  1,  2,  3,  4],\n",
       "       [ 5,  6,  7,  8,  9],\n",
       "       [10, 11, 12, 13, 14],\n",
       "       [15, 16, 17, 18, 19],\n",
       "       [20, 21, 22, 23, 24]])"
      ]
     },
     "execution_count": 76,
     "metadata": {},
     "output_type": "execute_result"
    }
   ],
   "source": [
    "a = np.arange(25).reshape(5,5)\n",
    "a"
   ]
  },
  {
   "cell_type": "code",
   "execution_count": 77,
   "id": "fcf41901-83b4-4904-870a-39a72312e684",
   "metadata": {
    "tags": []
   },
   "outputs": [
    {
     "data": {
      "text/plain": [
       "array([[ 0,  1,  2,  3,  4],\n",
       "       [ 5,  6,  7,  8,  9],\n",
       "       [10, 11, 12, 13, 14],\n",
       "       [15, 16, 17, 18, 19],\n",
       "       [20, 21, 22, 23, 24]])"
      ]
     },
     "execution_count": 77,
     "metadata": {},
     "output_type": "execute_result"
    }
   ],
   "source": [
    "a[::,::]"
   ]
  },
  {
   "cell_type": "code",
   "execution_count": 83,
   "id": "45bb796f-60cf-4e2f-a60e-fb4d57d1db92",
   "metadata": {
    "tags": []
   },
   "outputs": [
    {
     "data": {
      "text/plain": [
       "array([ 0,  1,  2,  3,  4,  5,  6,  7,  8,  9, 10, 11, 12, 13, 14, 15, 16,\n",
       "       17, 18, 19, 20, 21, 22, 23, 24])"
      ]
     },
     "execution_count": 83,
     "metadata": {},
     "output_type": "execute_result"
    }
   ],
   "source": [
    "a = np.arange(25)\n",
    "a"
   ]
  },
  {
   "cell_type": "code",
   "execution_count": 84,
   "id": "487f272e-2e14-4c66-bcd6-f1786c235e0d",
   "metadata": {
    "tags": []
   },
   "outputs": [
    {
     "data": {
      "text/plain": [
       "(25,)"
      ]
     },
     "execution_count": 84,
     "metadata": {},
     "output_type": "execute_result"
    }
   ],
   "source": [
    "a.shape"
   ]
  },
  {
   "cell_type": "code",
   "execution_count": 86,
   "id": "51512496-c240-4ea7-8bf7-fc181e11457c",
   "metadata": {
    "tags": []
   },
   "outputs": [],
   "source": [
    "a = a.reshape(5,5)"
   ]
  },
  {
   "cell_type": "code",
   "execution_count": 87,
   "id": "b099e340-1051-44a2-beba-fd0be77b6167",
   "metadata": {
    "tags": []
   },
   "outputs": [
    {
     "data": {
      "text/plain": [
       "array([[ 0,  1,  2,  3,  4],\n",
       "       [ 5,  6,  7,  8,  9],\n",
       "       [10, 11, 12, 13, 14],\n",
       "       [15, 16, 17, 18, 19],\n",
       "       [20, 21, 22, 23, 24]])"
      ]
     },
     "execution_count": 87,
     "metadata": {},
     "output_type": "execute_result"
    }
   ],
   "source": [
    "a"
   ]
  },
  {
   "cell_type": "code",
   "execution_count": 92,
   "id": "3f66044b-4d90-4f78-92ca-6f4d9d2055ef",
   "metadata": {
    "tags": []
   },
   "outputs": [
    {
     "data": {
      "text/plain": [
       "array([[ 1,  3],\n",
       "       [ 6,  8],\n",
       "       [11, 13],\n",
       "       [16, 18],\n",
       "       [21, 23]])"
      ]
     },
     "execution_count": 92,
     "metadata": {},
     "output_type": "execute_result"
    }
   ],
   "source": [
    "red = a[:, 1::2]\n",
    "red"
   ]
  },
  {
   "cell_type": "code",
   "execution_count": 95,
   "id": "ea5122ab-a63a-46f9-9f2b-3a23bd6ef989",
   "metadata": {
    "tags": []
   },
   "outputs": [
    {
     "data": {
      "text/plain": [
       "array([20, 21, 22, 23, 24])"
      ]
     },
     "execution_count": 95,
     "metadata": {},
     "output_type": "execute_result"
    }
   ],
   "source": [
    "yellow = a[-1]\n",
    "yellow"
   ]
  },
  {
   "cell_type": "code",
   "execution_count": 100,
   "id": "7c6576da-04e1-4ddd-a9c2-a2d039649b1a",
   "metadata": {
    "tags": []
   },
   "outputs": [
    {
     "data": {
      "text/plain": [
       "array([[ 5,  7],\n",
       "       [15, 17]])"
      ]
     },
     "execution_count": 100,
     "metadata": {},
     "output_type": "execute_result"
    }
   ],
   "source": [
    "a[1::2, 0:3:2]"
   ]
  },
  {
   "cell_type": "code",
   "execution_count": 103,
   "id": "8e239cd3-763c-46ea-8549-9a0031b7f4eb",
   "metadata": {
    "tags": []
   },
   "outputs": [
    {
     "data": {
      "text/plain": [
       "array([ 5,  6,  7,  8,  9, 10, 11, 12, 13, 14])"
      ]
     },
     "execution_count": 103,
     "metadata": {},
     "output_type": "execute_result"
    }
   ],
   "source": [
    "arr_a = np.arange(10) + 5\n",
    "arr_a"
   ]
  },
  {
   "cell_type": "code",
   "execution_count": 104,
   "id": "f0f01b86-9b4f-421f-8cb0-075df331f43c",
   "metadata": {
    "tags": []
   },
   "outputs": [
    {
     "data": {
      "text/plain": [
       "array([ 6,  8, 10, 12, 14])"
      ]
     },
     "execution_count": 104,
     "metadata": {},
     "output_type": "execute_result"
    }
   ],
   "source": [
    "arr_a[1::2]"
   ]
  },
  {
   "cell_type": "code",
   "execution_count": 105,
   "id": "0e81a668-a05b-42a9-bbd0-5cd8dad70d56",
   "metadata": {
    "tags": []
   },
   "outputs": [],
   "source": [
    "arr_a[1::2] = [40, 41, 42, 43, 44]"
   ]
  },
  {
   "cell_type": "code",
   "execution_count": 106,
   "id": "8be3f725-bef4-4154-9ff4-71edd1144b9b",
   "metadata": {
    "tags": []
   },
   "outputs": [
    {
     "data": {
      "text/plain": [
       "array([ 5, 40,  7, 41,  9, 42, 11, 43, 13, 44])"
      ]
     },
     "execution_count": 106,
     "metadata": {},
     "output_type": "execute_result"
    }
   ],
   "source": [
    "arr_a"
   ]
  },
  {
   "cell_type": "code",
   "execution_count": 107,
   "id": "5b912b11-ccaf-44cd-82f3-d136ff4a8505",
   "metadata": {
    "tags": []
   },
   "outputs": [
    {
     "ename": "ValueError",
     "evalue": "could not broadcast input array from shape (4,) into shape (5,)",
     "output_type": "error",
     "traceback": [
      "\u001b[0;31m---------------------------------------------------------------------------\u001b[0m",
      "\u001b[0;31mValueError\u001b[0m                                Traceback (most recent call last)",
      "Cell \u001b[0;32mIn[107], line 1\u001b[0m\n\u001b[0;32m----> 1\u001b[0m arr_a[\u001b[38;5;241m1\u001b[39m::\u001b[38;5;241m2\u001b[39m] \u001b[38;5;241m=\u001b[39m [\u001b[38;5;241m40\u001b[39m, \u001b[38;5;241m41\u001b[39m, \u001b[38;5;241m42\u001b[39m, \u001b[38;5;241m43\u001b[39m]\n",
      "\u001b[0;31mValueError\u001b[0m: could not broadcast input array from shape (4,) into shape (5,)"
     ]
    }
   ],
   "source": [
    "arr_a[1::2] = [40, 41, 42, 43]"
   ]
  },
  {
   "cell_type": "code",
   "execution_count": 108,
   "id": "2ef1057e-92aa-4782-ac4c-a8ba900c59f9",
   "metadata": {
    "tags": []
   },
   "outputs": [
    {
     "data": {
      "text/plain": [
       "array([ 5, 99,  7, 99,  9, 99, 11, 99, 13, 99])"
      ]
     },
     "execution_count": 108,
     "metadata": {},
     "output_type": "execute_result"
    }
   ],
   "source": [
    "arr_a[1::2] = 99\n",
    "arr_a"
   ]
  },
  {
   "cell_type": "code",
   "execution_count": 109,
   "id": "d754eda6-49db-4f63-9d54-565c8e9155d6",
   "metadata": {
    "tags": []
   },
   "outputs": [
    {
     "data": {
      "text/plain": [
       "array([ 5,  7,  9, 11, 13])"
      ]
     },
     "execution_count": 109,
     "metadata": {},
     "output_type": "execute_result"
    }
   ],
   "source": [
    "b = arr_a[::2]\n",
    "b"
   ]
  },
  {
   "cell_type": "code",
   "execution_count": 110,
   "id": "c0b838c3-c423-4eee-b6f4-e25b17699f42",
   "metadata": {
    "tags": []
   },
   "outputs": [],
   "source": [
    "b[3] = 55"
   ]
  },
  {
   "cell_type": "code",
   "execution_count": 111,
   "id": "5a81cc39-6a39-4475-b11f-c4178334091e",
   "metadata": {
    "tags": []
   },
   "outputs": [
    {
     "data": {
      "text/plain": [
       "array([ 5, 99,  7, 99,  9, 99, 55, 99, 13, 99])"
      ]
     },
     "execution_count": 111,
     "metadata": {},
     "output_type": "execute_result"
    }
   ],
   "source": [
    "arr_a"
   ]
  },
  {
   "cell_type": "code",
   "execution_count": 113,
   "id": "8a8812f4-2e15-4958-ada1-296e486942ca",
   "metadata": {
    "tags": []
   },
   "outputs": [
    {
     "data": {
      "text/plain": [
       "True"
      ]
     },
     "execution_count": 113,
     "metadata": {},
     "output_type": "execute_result"
    }
   ],
   "source": [
    "np.shares_memory(arr_a, b)"
   ]
  },
  {
   "cell_type": "code",
   "execution_count": 114,
   "id": "e0f17774-a37a-4c7e-8b96-434f8bd012a5",
   "metadata": {
    "tags": []
   },
   "outputs": [],
   "source": [
    "# slices [start:stop:step]"
   ]
  },
  {
   "cell_type": "code",
   "execution_count": 115,
   "id": "79337edd-0586-4d17-ad4a-f089d5d86361",
   "metadata": {
    "tags": []
   },
   "outputs": [],
   "source": [
    "# fancy indexing\n",
    "# 1. give indexes directly\n",
    "# 2. build a boolean mask"
   ]
  },
  {
   "cell_type": "code",
   "execution_count": 117,
   "id": "25de5a08-1b69-4193-b7a7-baa80898fe8c",
   "metadata": {
    "tags": []
   },
   "outputs": [
    {
     "data": {
      "text/plain": [
       "array([ 5,  6,  7,  8,  9, 10, 11, 12, 13, 14])"
      ]
     },
     "execution_count": 117,
     "metadata": {},
     "output_type": "execute_result"
    }
   ],
   "source": [
    "arr_a = np.arange(10) + 5\n",
    "arr_a"
   ]
  },
  {
   "cell_type": "code",
   "execution_count": 118,
   "id": "f6443331-2e2e-4c92-a8d2-19f80cb34b38",
   "metadata": {
    "tags": []
   },
   "outputs": [
    {
     "data": {
      "text/plain": [
       "array([ 7,  8, 12, 13])"
      ]
     },
     "execution_count": 118,
     "metadata": {},
     "output_type": "execute_result"
    }
   ],
   "source": [
    "# give indexes directly\n",
    "# indexes: 2, 3, 7, 8 \n",
    "arr_a[[2, 3, 7, 8]]"
   ]
  },
  {
   "cell_type": "code",
   "execution_count": 119,
   "id": "97e68eb7-c07f-4dc8-9cd6-630698a10d4f",
   "metadata": {
    "tags": []
   },
   "outputs": [
    {
     "data": {
      "text/plain": [
       "array([ 7,  8, 12, 13])"
      ]
     },
     "execution_count": 119,
     "metadata": {},
     "output_type": "execute_result"
    }
   ],
   "source": [
    "arr_a[[2, 3, 7, -2]]"
   ]
  },
  {
   "cell_type": "code",
   "execution_count": 120,
   "id": "782fd194-6b3f-409e-a376-5d405a5c53c0",
   "metadata": {
    "tags": []
   },
   "outputs": [
    {
     "data": {
      "text/plain": [
       "array([ 7,  8, 13, 12])"
      ]
     },
     "execution_count": 120,
     "metadata": {},
     "output_type": "execute_result"
    }
   ],
   "source": [
    "arr_a[[2, 3, -2, 7]]"
   ]
  },
  {
   "cell_type": "code",
   "execution_count": 121,
   "id": "4dd67438-5024-4e97-b132-bcba97cb4deb",
   "metadata": {
    "tags": []
   },
   "outputs": [
    {
     "data": {
      "text/plain": [
       "array([ 7,  8, 13, 12,  7,  8])"
      ]
     },
     "execution_count": 121,
     "metadata": {},
     "output_type": "execute_result"
    }
   ],
   "source": [
    "arr_a[[2, 3, -2, 7, 2, 3]]"
   ]
  },
  {
   "cell_type": "code",
   "execution_count": 122,
   "id": "19df1086-b0f8-4eed-8c15-3a0b500ce130",
   "metadata": {
    "tags": []
   },
   "outputs": [
    {
     "data": {
      "text/plain": [
       "array([ 6,  9,  7, 10])"
      ]
     },
     "execution_count": 122,
     "metadata": {},
     "output_type": "execute_result"
    }
   ],
   "source": [
    "idx_list = [1, 4, 2, -5]\n",
    "arr_a[idx_list]"
   ]
  },
  {
   "cell_type": "code",
   "execution_count": 123,
   "id": "712740b7-e281-49ef-b1b4-b04a02d36d74",
   "metadata": {
    "tags": []
   },
   "outputs": [
    {
     "data": {
      "text/plain": [
       "array([ 5,  6,  7,  8,  9, 10, 11, 12, 13, 14])"
      ]
     },
     "execution_count": 123,
     "metadata": {},
     "output_type": "execute_result"
    }
   ],
   "source": [
    "# indexing with booleans\n",
    "arr_a"
   ]
  },
  {
   "cell_type": "code",
   "execution_count": 126,
   "id": "73306b43-0232-4ad7-a310-994dc9321d59",
   "metadata": {
    "tags": []
   },
   "outputs": [
    {
     "data": {
      "text/plain": [
       "(10, 10)"
      ]
     },
     "execution_count": 126,
     "metadata": {},
     "output_type": "execute_result"
    }
   ],
   "source": [
    "bool_idx = [True, True, False, True, False, False, True, True, False, False]\n",
    "len(bool_idx), len(arr_a)"
   ]
  },
  {
   "cell_type": "code",
   "execution_count": 127,
   "id": "035e5ff9-19a2-47e7-b3a0-ec5524552c1e",
   "metadata": {
    "tags": []
   },
   "outputs": [
    {
     "data": {
      "text/plain": [
       "array([ 5,  6,  8, 11, 12])"
      ]
     },
     "execution_count": 127,
     "metadata": {},
     "output_type": "execute_result"
    }
   ],
   "source": [
    "arr_a[bool_idx]"
   ]
  },
  {
   "cell_type": "code",
   "execution_count": 128,
   "id": "aeb4f4b1-500a-41a4-8c4b-8d8198b1c402",
   "metadata": {
    "tags": []
   },
   "outputs": [
    {
     "data": {
      "text/plain": [
       "array([ 5,  6,  7,  8,  9, 10, 11, 12, 13, 14])"
      ]
     },
     "execution_count": 128,
     "metadata": {},
     "output_type": "execute_result"
    }
   ],
   "source": [
    "arr_a"
   ]
  },
  {
   "cell_type": "code",
   "execution_count": 129,
   "id": "6725ce0c-531b-431b-b21d-e11fd547b474",
   "metadata": {
    "tags": []
   },
   "outputs": [
    {
     "data": {
      "text/plain": [
       "array([2, 0, 1, 2, 0, 1, 2, 0, 1, 2])"
      ]
     },
     "execution_count": 129,
     "metadata": {},
     "output_type": "execute_result"
    }
   ],
   "source": [
    "arr_a % 3"
   ]
  },
  {
   "cell_type": "code",
   "execution_count": 130,
   "id": "8715cae5-6b69-4e54-a96c-51f273674f06",
   "metadata": {
    "tags": []
   },
   "outputs": [
    {
     "data": {
      "text/plain": [
       "array([False,  True, False, False,  True, False, False,  True, False,\n",
       "       False])"
      ]
     },
     "execution_count": 130,
     "metadata": {},
     "output_type": "execute_result"
    }
   ],
   "source": [
    "arr_a % 3 == 0"
   ]
  },
  {
   "cell_type": "code",
   "execution_count": 132,
   "id": "84b14cb9-78b9-44a3-a9d1-524776885afb",
   "metadata": {
    "tags": []
   },
   "outputs": [
    {
     "data": {
      "text/plain": [
       "array([False,  True, False, False,  True, False, False,  True, False,\n",
       "       False])"
      ]
     },
     "execution_count": 132,
     "metadata": {},
     "output_type": "execute_result"
    }
   ],
   "source": [
    "div_3_idx = (arr_a % 3 == 0)\n",
    "div_3_idx"
   ]
  },
  {
   "cell_type": "code",
   "execution_count": 134,
   "id": "51eee7a0-a8f1-4db8-8687-6aba9dffd5d7",
   "metadata": {
    "tags": []
   },
   "outputs": [
    {
     "data": {
      "text/plain": [
       "array([ 6,  9, 12])"
      ]
     },
     "execution_count": 134,
     "metadata": {},
     "output_type": "execute_result"
    }
   ],
   "source": [
    "# mask\n",
    "arr_a[div_3_idx]"
   ]
  },
  {
   "cell_type": "code",
   "execution_count": 135,
   "id": "f7e82fac-a57e-41a6-829c-1c4f3981362c",
   "metadata": {
    "tags": []
   },
   "outputs": [
    {
     "data": {
      "text/plain": [
       "array([ 6,  9, 12])"
      ]
     },
     "execution_count": 135,
     "metadata": {},
     "output_type": "execute_result"
    }
   ],
   "source": [
    "arr_a[arr_a % 3 == 0]"
   ]
  },
  {
   "cell_type": "code",
   "execution_count": 139,
   "id": "82312ecb-38ab-4f1c-a3cd-a6efbc8602ee",
   "metadata": {
    "tags": []
   },
   "outputs": [
    {
     "data": {
      "text/plain": [
       "array([[ 0,  1,  2,  3,  4],\n",
       "       [ 5,  6,  7,  8,  9],\n",
       "       [10, 11, 12, 13, 14],\n",
       "       [15, 16, 17, 18, 19],\n",
       "       [20, 21, 22, 23, 24]])"
      ]
     },
     "execution_count": 139,
     "metadata": {},
     "output_type": "execute_result"
    }
   ],
   "source": [
    "a = np.arange(25).reshape(5,5)\n",
    "a"
   ]
  },
  {
   "cell_type": "code",
   "execution_count": 140,
   "id": "4068d38f-1949-4232-89ca-273ca83ea69f",
   "metadata": {
    "tags": []
   },
   "outputs": [],
   "source": [
    "# pick up 1, 7, 16, 23\n",
    "rows = [0, 1, 3, 4]\n",
    "cols = [1, 2, 1, 3]"
   ]
  },
  {
   "cell_type": "code",
   "execution_count": 141,
   "id": "643e24a8-12d5-4474-836d-89113eb14525",
   "metadata": {
    "tags": []
   },
   "outputs": [
    {
     "data": {
      "text/plain": [
       "array([ 1,  7, 16, 23])"
      ]
     },
     "execution_count": 141,
     "metadata": {},
     "output_type": "execute_result"
    }
   ],
   "source": [
    "a[rows, cols]"
   ]
  },
  {
   "cell_type": "code",
   "execution_count": 142,
   "id": "255efff9-e576-4cf2-ac33-5caf10429b7a",
   "metadata": {
    "tags": []
   },
   "outputs": [
    {
     "data": {
      "text/plain": [
       "[(0, 1), (1, 2), (3, 1), (4, 3)]"
      ]
     },
     "execution_count": 142,
     "metadata": {},
     "output_type": "execute_result"
    }
   ],
   "source": [
    "list(zip(rows, cols))"
   ]
  },
  {
   "cell_type": "code",
   "execution_count": 143,
   "id": "1074265d-68a2-4259-8250-b37c2b8f81a3",
   "metadata": {
    "tags": []
   },
   "outputs": [
    {
     "data": {
      "text/plain": [
       "array([[ 0,  1,  2,  3,  4],\n",
       "       [ 5,  6,  7,  8,  9],\n",
       "       [10, 11, 12, 13, 14],\n",
       "       [15, 16, 17, 18, 19],\n",
       "       [20, 21, 22, 23, 24]])"
      ]
     },
     "execution_count": 143,
     "metadata": {},
     "output_type": "execute_result"
    }
   ],
   "source": [
    "a = np.arange(25).reshape(5,5)\n",
    "a"
   ]
  },
  {
   "cell_type": "code",
   "execution_count": 144,
   "id": "e7e7ad3c-d643-48d0-a054-d6be81e132de",
   "metadata": {
    "tags": []
   },
   "outputs": [
    {
     "data": {
      "text/plain": [
       "[(0, 3), (1, 1), (2, 0), (3, 4)]"
      ]
     },
     "execution_count": 144,
     "metadata": {},
     "output_type": "execute_result"
    }
   ],
   "source": [
    "rows = [0, 1, 2, 3]\n",
    "cols = [3, 1, 0, 4]\n",
    "list(zip(rows, cols))"
   ]
  },
  {
   "cell_type": "code",
   "execution_count": 145,
   "id": "761970bd-871d-4534-a15c-8a084ee6898d",
   "metadata": {
    "tags": []
   },
   "outputs": [
    {
     "data": {
      "text/plain": [
       "array([ 3,  6, 10, 19])"
      ]
     },
     "execution_count": 145,
     "metadata": {},
     "output_type": "execute_result"
    }
   ],
   "source": [
    "a[rows, cols]"
   ]
  },
  {
   "cell_type": "code",
   "execution_count": 146,
   "id": "dc33f1e8-d8d4-4253-8ea1-7ee8dfa002dd",
   "metadata": {
    "tags": []
   },
   "outputs": [
    {
     "data": {
      "text/plain": [
       "[(0, 3), (2, 1), (1, 0), (3, 4)]"
      ]
     },
     "execution_count": 146,
     "metadata": {},
     "output_type": "execute_result"
    }
   ],
   "source": [
    "rows = [0, 2, 1, 3]\n",
    "cols = [3, 1, 0, 4]\n",
    "list(zip(rows, cols))"
   ]
  },
  {
   "cell_type": "code",
   "execution_count": 147,
   "id": "70cc7874-1022-4168-afd1-cceb63357d5b",
   "metadata": {
    "tags": []
   },
   "outputs": [
    {
     "data": {
      "text/plain": [
       "array([ 3, 11,  5, 19])"
      ]
     },
     "execution_count": 147,
     "metadata": {},
     "output_type": "execute_result"
    }
   ],
   "source": [
    "a[rows, cols]"
   ]
  },
  {
   "cell_type": "code",
   "execution_count": 148,
   "id": "d76de8fe-0589-4ff8-b0f0-977d83647f5a",
   "metadata": {
    "tags": []
   },
   "outputs": [
    {
     "data": {
      "text/plain": [
       "array([[ True, False, False,  True, False],\n",
       "       [False,  True, False, False,  True],\n",
       "       [False, False,  True, False, False],\n",
       "       [ True, False, False,  True, False],\n",
       "       [False,  True, False, False,  True]])"
      ]
     },
     "execution_count": 148,
     "metadata": {},
     "output_type": "execute_result"
    }
   ],
   "source": [
    "a % 3 == 0"
   ]
  },
  {
   "cell_type": "code",
   "execution_count": 149,
   "id": "03eb9ea1-371e-472d-9bfe-0f3c0bff963d",
   "metadata": {
    "tags": []
   },
   "outputs": [
    {
     "data": {
      "text/plain": [
       "array([ 0,  3,  6,  9, 12, 15, 18, 21, 24])"
      ]
     },
     "execution_count": 149,
     "metadata": {},
     "output_type": "execute_result"
    }
   ],
   "source": [
    "a[a % 3 == 0]"
   ]
  },
  {
   "cell_type": "code",
   "execution_count": 150,
   "id": "07630f7d-203e-4304-9f5d-197f736b8230",
   "metadata": {
    "tags": []
   },
   "outputs": [
    {
     "data": {
      "text/plain": [
       "array([0., 0., 0.])"
      ]
     },
     "execution_count": 150,
     "metadata": {},
     "output_type": "execute_result"
    }
   ],
   "source": [
    "np.zeros(3)"
   ]
  },
  {
   "cell_type": "code",
   "execution_count": 151,
   "id": "fb7093dc-d2b3-4f3e-a937-29fc3c3e9258",
   "metadata": {
    "tags": []
   },
   "outputs": [
    {
     "data": {
      "text/plain": [
       "array([[0., 0., 0.]])"
      ]
     },
     "execution_count": 151,
     "metadata": {},
     "output_type": "execute_result"
    }
   ],
   "source": [
    "np.zeros((1, 3))"
   ]
  },
  {
   "cell_type": "code",
   "execution_count": 153,
   "id": "f43f7276-0722-4d46-b2df-6522c97d59ab",
   "metadata": {
    "tags": []
   },
   "outputs": [
    {
     "data": {
      "text/plain": [
       "array([[0., 0., 0., 0., 0.],\n",
       "       [0., 0., 0., 0., 0.],\n",
       "       [0., 0., 0., 0., 0.]])"
      ]
     },
     "execution_count": 153,
     "metadata": {},
     "output_type": "execute_result"
    }
   ],
   "source": [
    "np.zeros((3, 5))"
   ]
  },
  {
   "cell_type": "code",
   "execution_count": 154,
   "id": "dd066381-62f0-4e27-a3f5-c8855b9cd562",
   "metadata": {
    "tags": []
   },
   "outputs": [
    {
     "data": {
      "text/plain": [
       "array([[1., 1., 1., 1., 1.],\n",
       "       [1., 1., 1., 1., 1.],\n",
       "       [1., 1., 1., 1., 1.]])"
      ]
     },
     "execution_count": 154,
     "metadata": {},
     "output_type": "execute_result"
    }
   ],
   "source": [
    "np.ones((3, 5))"
   ]
  },
  {
   "cell_type": "code",
   "execution_count": 155,
   "id": "d03b46ef-a34c-48eb-83c2-69e35387b046",
   "metadata": {
    "tags": []
   },
   "outputs": [
    {
     "data": {
      "text/plain": [
       "array([[1., 0., 0., 0.],\n",
       "       [0., 1., 0., 0.],\n",
       "       [0., 0., 1., 0.],\n",
       "       [0., 0., 0., 1.]])"
      ]
     },
     "execution_count": 155,
     "metadata": {},
     "output_type": "execute_result"
    }
   ],
   "source": [
    "np.identity(4)"
   ]
  },
  {
   "cell_type": "code",
   "execution_count": 157,
   "id": "24ada9d5-8c88-48c3-826a-d2ec7032c40b",
   "metadata": {
    "tags": []
   },
   "outputs": [
    {
     "data": {
      "text/plain": [
       "array([[1., 1., 1., 1., 1.],\n",
       "       [1., 1., 1., 1., 1.],\n",
       "       [1., 1., 1., 1., 1.]])"
      ]
     },
     "execution_count": 157,
     "metadata": {},
     "output_type": "execute_result"
    }
   ],
   "source": [
    "a = np.ones((3, 5))\n",
    "a"
   ]
  },
  {
   "cell_type": "code",
   "execution_count": 158,
   "id": "b9f71ec7-3efc-4487-ad77-23790db7c767",
   "metadata": {
    "tags": []
   },
   "outputs": [
    {
     "data": {
      "text/plain": [
       "dtype('float64')"
      ]
     },
     "execution_count": 158,
     "metadata": {},
     "output_type": "execute_result"
    }
   ],
   "source": [
    "a.dtype"
   ]
  },
  {
   "cell_type": "code",
   "execution_count": 160,
   "id": "ac03c33c-0757-4c28-9056-c1c6184c1bc6",
   "metadata": {
    "tags": []
   },
   "outputs": [
    {
     "data": {
      "text/plain": [
       "array([[1, 1, 1, 1, 1],\n",
       "       [1, 1, 1, 1, 1],\n",
       "       [1, 1, 1, 1, 1]], dtype=int8)"
      ]
     },
     "execution_count": 160,
     "metadata": {},
     "output_type": "execute_result"
    }
   ],
   "source": [
    "np.ones((3,5), dtype=np.int8)"
   ]
  },
  {
   "cell_type": "code",
   "execution_count": 162,
   "id": "84204da0-4d47-47aa-8248-e61d2d64d6f4",
   "metadata": {
    "tags": []
   },
   "outputs": [
    {
     "data": {
      "text/plain": [
       "array([ 0.        ,  0.20408163,  0.40816327,  0.6122449 ,  0.81632653,\n",
       "        1.02040816,  1.2244898 ,  1.42857143,  1.63265306,  1.83673469,\n",
       "        2.04081633,  2.24489796,  2.44897959,  2.65306122,  2.85714286,\n",
       "        3.06122449,  3.26530612,  3.46938776,  3.67346939,  3.87755102,\n",
       "        4.08163265,  4.28571429,  4.48979592,  4.69387755,  4.89795918,\n",
       "        5.10204082,  5.30612245,  5.51020408,  5.71428571,  5.91836735,\n",
       "        6.12244898,  6.32653061,  6.53061224,  6.73469388,  6.93877551,\n",
       "        7.14285714,  7.34693878,  7.55102041,  7.75510204,  7.95918367,\n",
       "        8.16326531,  8.36734694,  8.57142857,  8.7755102 ,  8.97959184,\n",
       "        9.18367347,  9.3877551 ,  9.59183673,  9.79591837, 10.        ])"
      ]
     },
     "execution_count": 162,
     "metadata": {},
     "output_type": "execute_result"
    }
   ],
   "source": [
    "np.linspace(0,10)"
   ]
  },
  {
   "cell_type": "code",
   "execution_count": 164,
   "id": "f92c11d1-41f5-455b-9916-9e8a5913ff4a",
   "metadata": {
    "tags": []
   },
   "outputs": [
    {
     "data": {
      "text/plain": [
       "array([ 1.  ,  3.25,  5.5 ,  7.75, 10.  ])"
      ]
     },
     "execution_count": 164,
     "metadata": {},
     "output_type": "execute_result"
    }
   ],
   "source": [
    "np.linspace(1,10, 5)"
   ]
  },
  {
   "cell_type": "code",
   "execution_count": 165,
   "id": "8bce0708-53ea-4b28-9bd4-39012134bb85",
   "metadata": {
    "tags": []
   },
   "outputs": [
    {
     "data": {
      "text/plain": [
       "array([1.00000000e+01, 1.77827941e+03, 3.16227766e+05, 5.62341325e+07,\n",
       "       1.00000000e+10])"
      ]
     },
     "execution_count": 165,
     "metadata": {},
     "output_type": "execute_result"
    }
   ],
   "source": [
    "np.logspace(1, 10, 5)"
   ]
  },
  {
   "cell_type": "code",
   "execution_count": 177,
   "id": "213eac33-cd4b-4a92-92c3-f48f04823c39",
   "metadata": {
    "tags": []
   },
   "outputs": [],
   "source": [
    "rng = np.random.default_rng(seed=42)"
   ]
  },
  {
   "cell_type": "code",
   "execution_count": 178,
   "id": "0f81585a-f939-40ef-bffb-440356758da4",
   "metadata": {
    "tags": []
   },
   "outputs": [
    {
     "data": {
      "text/plain": [
       "array([0, 3, 3, 2, 2])"
      ]
     },
     "execution_count": 178,
     "metadata": {},
     "output_type": "execute_result"
    }
   ],
   "source": [
    "rng.integers(5, size=5)"
   ]
  },
  {
   "cell_type": "code",
   "execution_count": 179,
   "id": "59d1a32c-be23-4c58-8cb0-419a83e423d0",
   "metadata": {
    "tags": []
   },
   "outputs": [
    {
     "data": {
      "text/plain": [
       "array([4, 0, 3, 1, 0])"
      ]
     },
     "execution_count": 179,
     "metadata": {},
     "output_type": "execute_result"
    }
   ],
   "source": [
    "rng.integers(5, size=5)\n"
   ]
  },
  {
   "cell_type": "code",
   "execution_count": 180,
   "id": "5182f9c9-e4c1-4825-a955-9fb8c23eb050",
   "metadata": {
    "tags": []
   },
   "outputs": [
    {
     "data": {
      "text/plain": [
       "array([2, 4, 3, 3, 3])"
      ]
     },
     "execution_count": 180,
     "metadata": {},
     "output_type": "execute_result"
    }
   ],
   "source": [
    "rng.integers(5, size=5)\n"
   ]
  },
  {
   "cell_type": "code",
   "execution_count": 183,
   "id": "0738e108-21e2-4131-a39a-c2d47a97fa2e",
   "metadata": {
    "tags": []
   },
   "outputs": [
    {
     "data": {
      "text/plain": [
       "array([[0.12811363, 0.45038594, 0.37079802, 0.92676499, 0.64386512,\n",
       "        0.82276161],\n",
       "       [0.4434142 , 0.22723872, 0.55458479, 0.06381726, 0.82763117,\n",
       "        0.6316644 ],\n",
       "       [0.75808774, 0.35452597, 0.97069802, 0.89312112, 0.7783835 ,\n",
       "        0.19463871],\n",
       "       [0.466721  , 0.04380377, 0.15428949, 0.68304895, 0.74476216,\n",
       "        0.96750973],\n",
       "       [0.32582536, 0.37045971, 0.46955581, 0.18947136, 0.12992151,\n",
       "        0.47570493]])"
      ]
     },
     "execution_count": 183,
     "metadata": {},
     "output_type": "execute_result"
    }
   ],
   "source": [
    "rng.uniform(size=(5,6))"
   ]
  },
  {
   "cell_type": "code",
   "execution_count": 185,
   "id": "5fcf246f-ed5e-4815-8c11-1985c0eb6c56",
   "metadata": {
    "tags": []
   },
   "outputs": [
    {
     "data": {
      "text/plain": [
       "array([[-0.82448122,  0.65059279,  0.74325417],\n",
       "       [ 0.54315427, -0.66550971,  0.23216132]])"
      ]
     },
     "execution_count": 185,
     "metadata": {},
     "output_type": "execute_result"
    }
   ],
   "source": [
    "rng.standard_normal(size=(2,3))"
   ]
  },
  {
   "cell_type": "code",
   "execution_count": 189,
   "id": "0ef4e419-77f8-48b3-a26d-d1f20d837242",
   "metadata": {
    "tags": []
   },
   "outputs": [
    {
     "data": {
      "text/plain": [
       "array([-10.        ,  -7.14285714,  -4.28571429,  -1.42857143,\n",
       "         1.42857143,   4.28571429,   7.14285714,  10.        ])"
      ]
     },
     "execution_count": 189,
     "metadata": {},
     "output_type": "execute_result"
    }
   ],
   "source": [
    "x = np.linspace(-10.0, 10.0, num=8)\n",
    "x"
   ]
  },
  {
   "cell_type": "code",
   "execution_count": 191,
   "id": "72993c5b-6364-49b5-94e9-b3b559259e72",
   "metadata": {
    "tags": []
   },
   "outputs": [
    {
     "data": {
      "text/plain": [
       "0.3141592653589793"
      ]
     },
     "execution_count": 191,
     "metadata": {},
     "output_type": "execute_result"
    }
   ],
   "source": [
    "np.pi /10"
   ]
  },
  {
   "cell_type": "code",
   "execution_count": 194,
   "id": "526eb754-9c88-4d37-a605-dc137ea95dbe",
   "metadata": {
    "tags": []
   },
   "outputs": [],
   "source": [
    "x = x * np.pi/10"
   ]
  },
  {
   "cell_type": "code",
   "execution_count": 195,
   "id": "8082e1e4-5e1d-4351-bc80-5e3fb204a62f",
   "metadata": {
    "tags": []
   },
   "outputs": [
    {
     "data": {
      "text/plain": [
       "array([-0.98696044, -0.70497174, -0.42298305, -0.14099435,  0.14099435,\n",
       "        0.42298305,  0.70497174,  0.98696044])"
      ]
     },
     "execution_count": 195,
     "metadata": {},
     "output_type": "execute_result"
    }
   ],
   "source": [
    "x"
   ]
  },
  {
   "cell_type": "code",
   "execution_count": 196,
   "id": "ba609a21-62a6-47d5-ac78-45281320b57e",
   "metadata": {
    "tags": []
   },
   "outputs": [],
   "source": [
    "y = np.cos(x)"
   ]
  },
  {
   "cell_type": "code",
   "execution_count": 197,
   "id": "556bd802-4b2d-4926-9c30-8bae8610145e",
   "metadata": {
    "tags": []
   },
   "outputs": [
    {
     "data": {
      "text/plain": [
       "array([0.55122847, 0.76162986, 0.91186851, 0.99007675, 0.99007675,\n",
       "       0.91186851, 0.76162986, 0.55122847])"
      ]
     },
     "execution_count": 197,
     "metadata": {},
     "output_type": "execute_result"
    }
   ],
   "source": [
    "y"
   ]
  },
  {
   "cell_type": "code",
   "execution_count": 201,
   "id": "b980a7d5-a08e-4e45-831c-ce63823932fe",
   "metadata": {
    "tags": []
   },
   "outputs": [
    {
     "name": "stdout",
     "output_type": "stream",
     "text": [
      "exercises/load_text/float_data.txt\n"
     ]
    }
   ],
   "source": [
    "%ls exercises/load_text/float_data.txt"
   ]
  },
  {
   "cell_type": "code",
   "execution_count": 203,
   "id": "5ff654da-4d57-4ac7-904b-18e3bde8a9d2",
   "metadata": {
    "tags": []
   },
   "outputs": [],
   "source": [
    "arr_float_data = np.loadtxt('exercises/load_text/float_data.txt')"
   ]
  },
  {
   "cell_type": "code",
   "execution_count": 204,
   "id": "2f5d043f-bf50-439f-a9f6-74437524d996",
   "metadata": {
    "tags": []
   },
   "outputs": [
    {
     "data": {
      "text/plain": [
       "array([[1., 2., 3., 4.],\n",
       "       [5., 6., 7., 8.]])"
      ]
     },
     "execution_count": 204,
     "metadata": {},
     "output_type": "execute_result"
    }
   ],
   "source": [
    "arr_float_data"
   ]
  },
  {
   "cell_type": "code",
   "execution_count": 205,
   "id": "e12c7d85-4953-47f4-9884-4a83855c9e5e",
   "metadata": {
    "tags": []
   },
   "outputs": [
    {
     "data": {
      "text/plain": [
       "(2, 4)"
      ]
     },
     "execution_count": 205,
     "metadata": {},
     "output_type": "execute_result"
    }
   ],
   "source": [
    "arr_float_data.shape"
   ]
  },
  {
   "cell_type": "code",
   "execution_count": 206,
   "id": "81720411-2a0b-4538-ab6a-21f400f13ee2",
   "metadata": {
    "tags": []
   },
   "outputs": [
    {
     "name": "stdout",
     "output_type": "stream",
     "text": [
      "exercises/load_text/float_data_with_header.txt\n"
     ]
    }
   ],
   "source": [
    "%ls exercises/load_text/float_data_with_header.txt"
   ]
  },
  {
   "cell_type": "code",
   "execution_count": 211,
   "id": "80bccd52-6958-4634-b765-4ae8bfd83d7f",
   "metadata": {
    "tags": []
   },
   "outputs": [
    {
     "data": {
      "text/plain": [
       "array([[1., 2., 3., 4.],\n",
       "       [5., 6., 7., 8.]])"
      ]
     },
     "execution_count": 211,
     "metadata": {},
     "output_type": "execute_result"
    }
   ],
   "source": [
    "np.loadtxt('exercises/load_text/float_data_with_header.txt', skiprows=1)"
   ]
  },
  {
   "cell_type": "code",
   "execution_count": 213,
   "id": "63edb6da-b682-4de9-bfe8-8aa94e1b580d",
   "metadata": {
    "tags": []
   },
   "outputs": [
    {
     "name": "stdout",
     "output_type": "stream",
     "text": [
      "exercises/load_text/complex_data_file.txt\n"
     ]
    }
   ],
   "source": [
    "%ls exercises/load_text/complex_data_file.txt"
   ]
  },
  {
   "cell_type": "code",
   "execution_count": 221,
   "id": "b97088cf-b6fb-436c-bac7-9127f8d60c80",
   "metadata": {
    "tags": []
   },
   "outputs": [
    {
     "data": {
      "text/plain": [
       "array([[1.00e+00, 1.00e+00, 2.00e+03, 3.00e+01],\n",
       "       [2.00e+00, 1.00e+00, 2.00e+03, 4.10e+01],\n",
       "       [4.00e+00, 1.00e+00, 2.00e+03, 5.50e+01],\n",
       "       [5.00e+00, 1.00e+00, 2.00e+03, 7.80e+01],\n",
       "       [6.00e+00, 1.00e+00, 2.00e+03, 1.34e+02],\n",
       "       [7.00e+00, 1.00e+00, 2.00e+03, 4.20e+01]])"
      ]
     },
     "execution_count": 221,
     "metadata": {},
     "output_type": "execute_result"
    }
   ],
   "source": [
    "arr_from_text = np.loadtxt(\n",
    "    'exercises/load_text/complex_data_file.txt', \n",
    "    skiprows=1, comments='%', delimiter=',',\n",
    "    usecols=[0,1,2,4]\n",
    ")\n",
    "arr_from_text"
   ]
  },
  {
   "cell_type": "code",
   "execution_count": 223,
   "id": "efb8de60-ceec-41c1-95fb-305d54998720",
   "metadata": {
    "tags": []
   },
   "outputs": [],
   "source": [
    "np.save('arr_from_text', arr_from_text)"
   ]
  },
  {
   "cell_type": "code",
   "execution_count": 225,
   "id": "808f7e30-8494-46fc-abb9-30223b2c9b55",
   "metadata": {
    "tags": []
   },
   "outputs": [],
   "source": [
    "npy_load_arr = np.load('arr_from_text.npy')"
   ]
  },
  {
   "cell_type": "code",
   "execution_count": 226,
   "id": "e7c05b88-f93e-4704-8b8f-4aaafa7b384d",
   "metadata": {
    "tags": []
   },
   "outputs": [
    {
     "data": {
      "text/plain": [
       "array([[1.00e+00, 1.00e+00, 2.00e+03, 3.00e+01],\n",
       "       [2.00e+00, 1.00e+00, 2.00e+03, 4.10e+01],\n",
       "       [4.00e+00, 1.00e+00, 2.00e+03, 5.50e+01],\n",
       "       [5.00e+00, 1.00e+00, 2.00e+03, 7.80e+01],\n",
       "       [6.00e+00, 1.00e+00, 2.00e+03, 1.34e+02],\n",
       "       [7.00e+00, 1.00e+00, 2.00e+03, 4.20e+01]])"
      ]
     },
     "execution_count": 226,
     "metadata": {},
     "output_type": "execute_result"
    }
   ],
   "source": [
    "npy_load_arr"
   ]
  },
  {
   "cell_type": "code",
   "execution_count": 227,
   "id": "99a90893-1bee-44f5-953e-4363cd1bac5f",
   "metadata": {
    "tags": []
   },
   "outputs": [],
   "source": [
    "arr_a = np.array([0,1,2,3])\n",
    "arr_b = np.array([5,6,7,8])"
   ]
  },
  {
   "cell_type": "code",
   "execution_count": 228,
   "id": "acee3f33-cba3-4a2c-9c2d-534bd9b6f03d",
   "metadata": {
    "tags": []
   },
   "outputs": [
    {
     "data": {
      "text/plain": [
       "((4,), (4,))"
      ]
     },
     "execution_count": 228,
     "metadata": {},
     "output_type": "execute_result"
    }
   ],
   "source": [
    "arr_a.shape, arr_b.shape"
   ]
  },
  {
   "cell_type": "code",
   "execution_count": 229,
   "id": "d14d8130-9bc8-4c34-9eea-3ef1abd0eb86",
   "metadata": {
    "tags": []
   },
   "outputs": [
    {
     "data": {
      "text/plain": [
       "array([ 5,  7,  9, 11])"
      ]
     },
     "execution_count": 229,
     "metadata": {},
     "output_type": "execute_result"
    }
   ],
   "source": [
    "arr_a + arr_b"
   ]
  },
  {
   "cell_type": "code",
   "execution_count": 230,
   "id": "ca636ce8-e4dd-4d7b-927c-cb368e532890",
   "metadata": {
    "tags": []
   },
   "outputs": [
    {
     "data": {
      "text/plain": [
       "array([ 0,  6, 14, 24])"
      ]
     },
     "execution_count": 230,
     "metadata": {},
     "output_type": "execute_result"
    }
   ],
   "source": [
    "arr_a * arr_b"
   ]
  },
  {
   "cell_type": "code",
   "execution_count": 231,
   "id": "7c3fb046-bac4-4f14-a333-9368626ed53f",
   "metadata": {
    "tags": []
   },
   "outputs": [],
   "source": [
    "arr_c = np.array([3,4,5])"
   ]
  },
  {
   "cell_type": "code",
   "execution_count": 232,
   "id": "e6abbfd6-49fa-49bb-873c-fe081a9fc941",
   "metadata": {
    "tags": []
   },
   "outputs": [
    {
     "ename": "ValueError",
     "evalue": "operands could not be broadcast together with shapes (4,) (3,) ",
     "output_type": "error",
     "traceback": [
      "\u001b[0;31m---------------------------------------------------------------------------\u001b[0m",
      "\u001b[0;31mValueError\u001b[0m                                Traceback (most recent call last)",
      "Cell \u001b[0;32mIn[232], line 1\u001b[0m\n\u001b[0;32m----> 1\u001b[0m arr_a \u001b[38;5;241m+\u001b[39m arr_c\n",
      "\u001b[0;31mValueError\u001b[0m: operands could not be broadcast together with shapes (4,) (3,) "
     ]
    }
   ],
   "source": [
    "arr_a + arr_c"
   ]
  },
  {
   "cell_type": "code",
   "execution_count": 233,
   "id": "8c465def-744b-4e4e-977f-f22fceecb74a",
   "metadata": {
    "tags": []
   },
   "outputs": [
    {
     "data": {
      "text/plain": [
       "array([10, 11, 12, 13])"
      ]
     },
     "execution_count": 233,
     "metadata": {},
     "output_type": "execute_result"
    }
   ],
   "source": [
    "arr_a  + 10"
   ]
  },
  {
   "cell_type": "code",
   "execution_count": 234,
   "id": "1dda46b9-07df-4ada-b3ae-0efd5c078b34",
   "metadata": {
    "tags": []
   },
   "outputs": [
    {
     "data": {
      "text/plain": [
       "array([10, 11, 12, 13])"
      ]
     },
     "execution_count": 234,
     "metadata": {},
     "output_type": "execute_result"
    }
   ],
   "source": [
    "arr_a + [10]"
   ]
  },
  {
   "cell_type": "code",
   "execution_count": 235,
   "id": "908e6f4c-1a53-43b4-bfc6-91f0bc649d1f",
   "metadata": {
    "tags": []
   },
   "outputs": [
    {
     "data": {
      "text/plain": [
       "array([10, 11, 12, 13])"
      ]
     },
     "execution_count": 235,
     "metadata": {},
     "output_type": "execute_result"
    }
   ],
   "source": [
    "arr_a + np.array([10])"
   ]
  },
  {
   "cell_type": "code",
   "execution_count": 236,
   "id": "56c0d4f7-49e4-4ed7-83ee-bfdc00a5c2fe",
   "metadata": {
    "tags": []
   },
   "outputs": [
    {
     "data": {
      "text/plain": [
       "6"
      ]
     },
     "execution_count": 236,
     "metadata": {},
     "output_type": "execute_result"
    }
   ],
   "source": [
    "arr_a.sum()"
   ]
  },
  {
   "cell_type": "code",
   "execution_count": 237,
   "id": "1ea23954-e553-4023-ad7c-b715bc1fa5e7",
   "metadata": {
    "tags": []
   },
   "outputs": [
    {
     "data": {
      "text/plain": [
       "array([[ 0,  1,  2,  3,  4,  5],\n",
       "       [ 6,  7,  8,  9, 10, 11],\n",
       "       [12, 13, 14, 15, 16, 17],\n",
       "       [18, 19, 20, 21, 22, 23]])"
      ]
     },
     "execution_count": 237,
     "metadata": {},
     "output_type": "execute_result"
    }
   ],
   "source": [
    "arr_d = np.arange(24).reshape(4,6)\n",
    "arr_d"
   ]
  },
  {
   "cell_type": "code",
   "execution_count": 239,
   "id": "203d9aa0-c782-44dc-89a9-ed7b80934ce3",
   "metadata": {
    "tags": []
   },
   "outputs": [
    {
     "data": {
      "text/plain": [
       "(4, 6)"
      ]
     },
     "execution_count": 239,
     "metadata": {},
     "output_type": "execute_result"
    }
   ],
   "source": [
    "arr_d.shape"
   ]
  },
  {
   "cell_type": "code",
   "execution_count": 240,
   "id": "cfbf924a-9015-41b8-b4c9-0797990a429c",
   "metadata": {
    "tags": []
   },
   "outputs": [
    {
     "data": {
      "text/plain": [
       "276"
      ]
     },
     "execution_count": 240,
     "metadata": {},
     "output_type": "execute_result"
    }
   ],
   "source": [
    "arr_d.sum()"
   ]
  },
  {
   "cell_type": "code",
   "execution_count": 245,
   "id": "50271f30-6ad5-49e4-bb71-463a77690ff5",
   "metadata": {
    "tags": []
   },
   "outputs": [
    {
     "data": {
      "text/plain": [
       "array([36, 40, 44, 48, 52, 56])"
      ]
     },
     "execution_count": 245,
     "metadata": {},
     "output_type": "execute_result"
    }
   ],
   "source": [
    "np.sum(arr_d, axis=0)"
   ]
  },
  {
   "cell_type": "code",
   "execution_count": 246,
   "id": "23717eec-8b13-4413-b43b-36c069b13f56",
   "metadata": {
    "tags": []
   },
   "outputs": [
    {
     "data": {
      "text/plain": [
       "array([ 15,  51,  87, 123])"
      ]
     },
     "execution_count": 246,
     "metadata": {},
     "output_type": "execute_result"
    }
   ],
   "source": [
    "np.sum(arr_d, axis=1)"
   ]
  },
  {
   "cell_type": "code",
   "execution_count": 248,
   "id": "c2fbcb47-e3af-4514-ab67-785a113e23ec",
   "metadata": {
    "tags": []
   },
   "outputs": [
    {
     "data": {
      "text/plain": [
       "array([ 15,  51,  87, 123])"
      ]
     },
     "execution_count": 248,
     "metadata": {},
     "output_type": "execute_result"
    }
   ],
   "source": [
    "arr_d.sum(axis=1)"
   ]
  },
  {
   "cell_type": "code",
   "execution_count": 251,
   "id": "ae202da0-59e4-4ab2-b13b-52d708fdd7fd",
   "metadata": {
    "tags": []
   },
   "outputs": [
    {
     "data": {
      "text/plain": [
       "0"
      ]
     },
     "execution_count": 251,
     "metadata": {},
     "output_type": "execute_result"
    }
   ],
   "source": [
    "arr_d.prod()"
   ]
  },
  {
   "cell_type": "code",
   "execution_count": 252,
   "id": "66e2095a-5671-44de-9112-a38ad972bb48",
   "metadata": {
    "tags": []
   },
   "outputs": [
    {
     "data": {
      "text/plain": [
       "0"
      ]
     },
     "execution_count": 252,
     "metadata": {},
     "output_type": "execute_result"
    }
   ],
   "source": [
    "arr_d.min()"
   ]
  },
  {
   "cell_type": "code",
   "execution_count": 253,
   "id": "0c7d27c0-47ac-4d79-8b8a-623f80e0b233",
   "metadata": {
    "tags": []
   },
   "outputs": [
    {
     "data": {
      "text/plain": [
       "23"
      ]
     },
     "execution_count": 253,
     "metadata": {},
     "output_type": "execute_result"
    }
   ],
   "source": [
    "arr_d.max()"
   ]
  },
  {
   "cell_type": "code",
   "execution_count": 254,
   "id": "63c9658e-a3bb-435e-bf28-da9d133c2198",
   "metadata": {
    "tags": []
   },
   "outputs": [
    {
     "data": {
      "text/plain": [
       "array([ 5, 11, 17, 23])"
      ]
     },
     "execution_count": 254,
     "metadata": {},
     "output_type": "execute_result"
    }
   ],
   "source": [
    "arr_d.max(axis=1)"
   ]
  },
  {
   "cell_type": "code",
   "execution_count": 255,
   "id": "41f9f307-37b8-4ec5-b237-b7c5bc375b77",
   "metadata": {
    "tags": []
   },
   "outputs": [
    {
     "data": {
      "text/plain": [
       "array([ 2.5,  8.5, 14.5, 20.5])"
      ]
     },
     "execution_count": 255,
     "metadata": {},
     "output_type": "execute_result"
    }
   ],
   "source": [
    "arr_d.mean(axis=1)"
   ]
  },
  {
   "cell_type": "code",
   "execution_count": 256,
   "id": "0bfde1e6-821e-4cc7-91a3-16f3d63c8041",
   "metadata": {
    "tags": []
   },
   "outputs": [
    {
     "data": {
      "text/plain": [
       "3"
      ]
     },
     "execution_count": 256,
     "metadata": {},
     "output_type": "execute_result"
    }
   ],
   "source": [
    "arr_a.argmax()"
   ]
  },
  {
   "cell_type": "code",
   "execution_count": 257,
   "id": "df52b68e-5cc9-437c-aa40-0c2920068ef6",
   "metadata": {
    "tags": []
   },
   "outputs": [
    {
     "data": {
      "text/plain": [
       "array([0, 1, 2, 3])"
      ]
     },
     "execution_count": 257,
     "metadata": {},
     "output_type": "execute_result"
    }
   ],
   "source": [
    "arr_a"
   ]
  },
  {
   "cell_type": "code",
   "execution_count": 258,
   "id": "0aa3b3d0-9a0a-492d-8201-041af1e5668a",
   "metadata": {
    "tags": []
   },
   "outputs": [
    {
     "data": {
      "text/plain": [
       "0"
      ]
     },
     "execution_count": 258,
     "metadata": {},
     "output_type": "execute_result"
    }
   ],
   "source": [
    "arr_a.argmin()"
   ]
  },
  {
   "cell_type": "code",
   "execution_count": 259,
   "id": "ea4dc7ee-9ff9-4064-8c2e-f073867a0688",
   "metadata": {
    "tags": []
   },
   "outputs": [
    {
     "data": {
      "text/plain": [
       "(4, 6)"
      ]
     },
     "execution_count": 259,
     "metadata": {},
     "output_type": "execute_result"
    }
   ],
   "source": [
    "arr_d.shape"
   ]
  },
  {
   "cell_type": "code",
   "execution_count": 260,
   "id": "565ce80c-f345-4aa2-be94-584b50c277dc",
   "metadata": {
    "tags": []
   },
   "outputs": [
    {
     "data": {
      "text/plain": [
       "0"
      ]
     },
     "execution_count": 260,
     "metadata": {},
     "output_type": "execute_result"
    }
   ],
   "source": [
    "arr_d.argmin()"
   ]
  },
  {
   "cell_type": "code",
   "execution_count": 261,
   "id": "bc6578c2-bb7a-49f2-84d6-f67765f07d91",
   "metadata": {
    "tags": []
   },
   "outputs": [
    {
     "data": {
      "text/plain": [
       "0"
      ]
     },
     "execution_count": 261,
     "metadata": {},
     "output_type": "execute_result"
    }
   ],
   "source": [
    "arr_d.min()"
   ]
  },
  {
   "cell_type": "code",
   "execution_count": 262,
   "id": "ff8d7493-0740-4b76-bd12-ebbe543b3bac",
   "metadata": {
    "tags": []
   },
   "outputs": [
    {
     "data": {
      "text/plain": [
       "array([[ 0,  1,  2,  3,  4,  5],\n",
       "       [ 6,  7,  8,  9, 10, 11],\n",
       "       [12, 13, 14, 15, 16, 17],\n",
       "       [18, 19, 20, 21, 22, 23]])"
      ]
     },
     "execution_count": 262,
     "metadata": {},
     "output_type": "execute_result"
    }
   ],
   "source": [
    "arr_d"
   ]
  },
  {
   "cell_type": "code",
   "execution_count": 263,
   "id": "dacf413f-6549-47c5-85ce-6026d9409ff7",
   "metadata": {
    "tags": []
   },
   "outputs": [
    {
     "data": {
      "text/plain": [
       "0"
      ]
     },
     "execution_count": 263,
     "metadata": {},
     "output_type": "execute_result"
    }
   ],
   "source": [
    "min_pos = arr_d.argmin()\n",
    "min_pos"
   ]
  },
  {
   "cell_type": "code",
   "execution_count": 264,
   "id": "601f5934-065d-4c4b-9b5b-24d2f7340e4f",
   "metadata": {
    "tags": []
   },
   "outputs": [
    {
     "data": {
      "text/plain": [
       "array([0, 1, 2, 3, 4, 5])"
      ]
     },
     "execution_count": 264,
     "metadata": {},
     "output_type": "execute_result"
    }
   ],
   "source": [
    "arr_d[min_pos]"
   ]
  },
  {
   "cell_type": "code",
   "execution_count": 265,
   "id": "40952b75-3875-4e07-8e36-372c68a36299",
   "metadata": {
    "tags": []
   },
   "outputs": [
    {
     "data": {
      "text/plain": [
       "(0, 0)"
      ]
     },
     "execution_count": 265,
     "metadata": {},
     "output_type": "execute_result"
    }
   ],
   "source": [
    "np.unravel_index(min_pos, arr_d.shape)"
   ]
  },
  {
   "cell_type": "code",
   "execution_count": 274,
   "id": "0aa39306-481b-4540-a99e-3b8dd5e2fd7e",
   "metadata": {
    "tags": []
   },
   "outputs": [],
   "source": [
    "row, col = np.where(arr_d==20)"
   ]
  },
  {
   "cell_type": "code",
   "execution_count": 273,
   "id": "d3e7e615-1751-446a-adf6-544e9322f939",
   "metadata": {
    "tags": []
   },
   "outputs": [
    {
     "data": {
      "text/plain": [
       "array([[False, False, False, False, False, False],\n",
       "       [False, False, False, False, False, False],\n",
       "       [False, False, False, False, False, False],\n",
       "       [False, False,  True, False, False, False]])"
      ]
     },
     "execution_count": 273,
     "metadata": {},
     "output_type": "execute_result"
    }
   ],
   "source": [
    "arr_d == 20"
   ]
  },
  {
   "cell_type": "code",
   "execution_count": 275,
   "id": "7530a355-a89c-4614-9bd5-adabdcf5ee97",
   "metadata": {
    "tags": []
   },
   "outputs": [
    {
     "data": {
      "text/plain": [
       "array([20])"
      ]
     },
     "execution_count": 275,
     "metadata": {},
     "output_type": "execute_result"
    }
   ],
   "source": [
    "arr_d[row, col]"
   ]
  },
  {
   "cell_type": "code",
   "execution_count": 276,
   "id": "229b9558-133c-4c8f-b237-829c44438c27",
   "metadata": {
    "tags": []
   },
   "outputs": [
    {
     "data": {
      "text/plain": [
       "array([1, 2, 3, 4, 5])"
      ]
     },
     "execution_count": 276,
     "metadata": {},
     "output_type": "execute_result"
    }
   ],
   "source": [
    "positives = np.arange(1,6)\n",
    "positives "
   ]
  },
  {
   "cell_type": "code",
   "execution_count": 277,
   "id": "d2f9661c-5e11-4c86-8573-e0fcd5a29bda",
   "metadata": {
    "tags": []
   },
   "outputs": [
    {
     "data": {
      "text/plain": [
       "array([-1, -2, -3, -4, -5])"
      ]
     },
     "execution_count": 277,
     "metadata": {},
     "output_type": "execute_result"
    }
   ],
   "source": [
    "negatives = -positives\n",
    "negatives"
   ]
  },
  {
   "cell_type": "code",
   "execution_count": 278,
   "id": "6aa83907-e457-4ddf-bf15-8a0bba116972",
   "metadata": {
    "tags": []
   },
   "outputs": [],
   "source": [
    "mask = [True, True, False, False, True]"
   ]
  },
  {
   "cell_type": "code",
   "execution_count": 279,
   "id": "0f3b5b55-9df5-45a4-af99-dd1c707202d6",
   "metadata": {
    "tags": []
   },
   "outputs": [
    {
     "data": {
      "text/plain": [
       "array([ 1,  2, -3, -4,  5])"
      ]
     },
     "execution_count": 279,
     "metadata": {},
     "output_type": "execute_result"
    }
   ],
   "source": [
    "np.where(mask, positives, negatives)"
   ]
  },
  {
   "cell_type": "code",
   "execution_count": 280,
   "id": "5203aca6-16bd-4da4-9ebb-e418a348cc45",
   "metadata": {
    "tags": []
   },
   "outputs": [
    {
     "data": {
      "text/plain": [
       "array([ 1,  2, 99, 99,  5])"
      ]
     },
     "execution_count": 280,
     "metadata": {},
     "output_type": "execute_result"
    }
   ],
   "source": [
    "np.where(mask, positives, 99)"
   ]
  },
  {
   "cell_type": "code",
   "execution_count": 282,
   "id": "f78865ae-f175-4911-97d3-3adaff6b3041",
   "metadata": {
    "tags": []
   },
   "outputs": [
    {
     "data": {
      "text/plain": [
       "array([[225, 196, 169, 144, 121, 100],\n",
       "       [ 81,  64,  49,  36,  25,  16],\n",
       "       [  9,   4,   1,   0,   1,   4],\n",
       "       [  9,  16,  25,  36,  49,  64],\n",
       "       [ 81, 100, 121, 144, 169, 196]])"
      ]
     },
     "execution_count": 282,
     "metadata": {},
     "output_type": "execute_result"
    }
   ],
   "source": [
    "a = np.arange(-15, 15).reshape(5,6) ** 2\n",
    "a"
   ]
  },
  {
   "cell_type": "code",
   "execution_count": 283,
   "id": "8f5f4506-aafd-46a4-ac9a-3b49493f8203",
   "metadata": {
    "tags": []
   },
   "outputs": [
    {
     "data": {
      "text/plain": [
       "225"
      ]
     },
     "execution_count": 283,
     "metadata": {},
     "output_type": "execute_result"
    }
   ],
   "source": [
    "a.max()"
   ]
  },
  {
   "cell_type": "code",
   "execution_count": 284,
   "id": "8d4d9754-a903-45ee-b61d-e080b400fe4c",
   "metadata": {
    "tags": []
   },
   "outputs": [
    {
     "data": {
      "text/plain": [
       "array([225,  81,   9,  64, 196])"
      ]
     },
     "execution_count": 284,
     "metadata": {},
     "output_type": "execute_result"
    }
   ],
   "source": [
    "a.max(axis=1)"
   ]
  },
  {
   "cell_type": "code",
   "execution_count": 285,
   "id": "cc4a5b14-b262-4cf9-8268-19cb96f16d03",
   "metadata": {
    "tags": []
   },
   "outputs": [
    {
     "data": {
      "text/plain": [
       "array([81., 76., 73., 72., 73., 76.])"
      ]
     },
     "execution_count": 285,
     "metadata": {},
     "output_type": "execute_result"
    }
   ],
   "source": [
    "a.mean(axis=0)"
   ]
  },
  {
   "cell_type": "code",
   "execution_count": 286,
   "id": "a9a21f29-04f4-4f59-bb0c-64e8df7000c7",
   "metadata": {
    "tags": []
   },
   "outputs": [
    {
     "data": {
      "text/plain": [
       "0"
      ]
     },
     "execution_count": 286,
     "metadata": {},
     "output_type": "execute_result"
    }
   ],
   "source": [
    "a.min()"
   ]
  },
  {
   "cell_type": "code",
   "execution_count": 287,
   "id": "da7bbe4e-f2c0-4fe7-be97-68590e906666",
   "metadata": {
    "tags": []
   },
   "outputs": [
    {
     "data": {
      "text/plain": [
       "15"
      ]
     },
     "execution_count": 287,
     "metadata": {},
     "output_type": "execute_result"
    }
   ],
   "source": [
    "a.argmin()"
   ]
  },
  {
   "cell_type": "code",
   "execution_count": 288,
   "id": "f1d0c4a8-2b47-4c37-8fad-8d0b20f6aa5b",
   "metadata": {
    "tags": []
   },
   "outputs": [
    {
     "data": {
      "text/plain": [
       "(5, 6)"
      ]
     },
     "execution_count": 288,
     "metadata": {},
     "output_type": "execute_result"
    }
   ],
   "source": [
    "a.shape"
   ]
  },
  {
   "cell_type": "code",
   "execution_count": 289,
   "id": "85d2fb69-78c8-4222-a5ff-4a6fe7bfe059",
   "metadata": {
    "tags": []
   },
   "outputs": [
    {
     "data": {
      "text/plain": [
       "(2, 3)"
      ]
     },
     "execution_count": 289,
     "metadata": {},
     "output_type": "execute_result"
    }
   ],
   "source": [
    "np.unravel_index(a.argmin(), a.shape)"
   ]
  },
  {
   "cell_type": "code",
   "execution_count": 291,
   "id": "adf4c9e0-c50a-430a-943c-769e061c6f5e",
   "metadata": {
    "tags": []
   },
   "outputs": [
    {
     "data": {
      "text/plain": [
       "(array([2]), array([3]))"
      ]
     },
     "execution_count": 291,
     "metadata": {},
     "output_type": "execute_result"
    }
   ],
   "source": [
    "np.where(a == a.min())"
   ]
  },
  {
   "cell_type": "code",
   "execution_count": 293,
   "id": "7d2b5a0f-9af2-41d8-b7b4-74913c677917",
   "metadata": {
    "tags": []
   },
   "outputs": [
    {
     "data": {
      "text/plain": [
       "2"
      ]
     },
     "execution_count": 293,
     "metadata": {},
     "output_type": "execute_result"
    }
   ],
   "source": [
    "a.min(axis=1).argmin()"
   ]
  },
  {
   "cell_type": "code",
   "execution_count": 294,
   "id": "657e453e-f236-42cf-a480-313dcc761a4f",
   "metadata": {
    "tags": []
   },
   "outputs": [
    {
     "data": {
      "text/plain": [
       "3"
      ]
     },
     "execution_count": 294,
     "metadata": {},
     "output_type": "execute_result"
    }
   ],
   "source": [
    "a.min(axis=0).argmin()"
   ]
  },
  {
   "cell_type": "code",
   "execution_count": 295,
   "id": "9d909f96-5362-493a-be11-818db66518fa",
   "metadata": {
    "tags": []
   },
   "outputs": [],
   "source": [
    "a = np.ones((3,5))\n",
    "b = np.ones((5,))"
   ]
  },
  {
   "cell_type": "code",
   "execution_count": 296,
   "id": "a5c11db7-87d7-46eb-b849-e1c1930f6acd",
   "metadata": {
    "tags": []
   },
   "outputs": [
    {
     "data": {
      "text/plain": [
       "array([[1., 1., 1., 1., 1.],\n",
       "       [1., 1., 1., 1., 1.],\n",
       "       [1., 1., 1., 1., 1.]])"
      ]
     },
     "execution_count": 296,
     "metadata": {},
     "output_type": "execute_result"
    }
   ],
   "source": [
    "a\n"
   ]
  },
  {
   "cell_type": "code",
   "execution_count": 297,
   "id": "d08e0c18-a0b4-4e60-b83d-dc227ec0e1f5",
   "metadata": {
    "tags": []
   },
   "outputs": [
    {
     "data": {
      "text/plain": [
       "array([1., 1., 1., 1., 1.])"
      ]
     },
     "execution_count": 297,
     "metadata": {},
     "output_type": "execute_result"
    }
   ],
   "source": [
    "b"
   ]
  },
  {
   "cell_type": "code",
   "execution_count": 298,
   "id": "947a3099-cf18-48a9-879e-73916f1dece7",
   "metadata": {
    "tags": []
   },
   "outputs": [
    {
     "data": {
      "text/plain": [
       "array([[2., 2., 2., 2., 2.],\n",
       "       [2., 2., 2., 2., 2.],\n",
       "       [2., 2., 2., 2., 2.]])"
      ]
     },
     "execution_count": 298,
     "metadata": {},
     "output_type": "execute_result"
    }
   ],
   "source": [
    "a + b"
   ]
  },
  {
   "cell_type": "code",
   "execution_count": 299,
   "id": "5f9d52a9-8f33-4547-91d4-e7ac7585cd04",
   "metadata": {
    "tags": []
   },
   "outputs": [
    {
     "data": {
      "text/plain": [
       "(3, 5)"
      ]
     },
     "execution_count": 299,
     "metadata": {},
     "output_type": "execute_result"
    }
   ],
   "source": [
    "a.shape"
   ]
  },
  {
   "cell_type": "code",
   "execution_count": 300,
   "id": "b1ec7d24-c06b-4ed2-8824-a7af007b1490",
   "metadata": {
    "tags": []
   },
   "outputs": [
    {
     "data": {
      "text/plain": [
       "(5,)"
      ]
     },
     "execution_count": 300,
     "metadata": {},
     "output_type": "execute_result"
    }
   ],
   "source": [
    "b.shape"
   ]
  },
  {
   "cell_type": "code",
   "execution_count": 301,
   "id": "3563c7f2-ce83-4006-9a6d-4087506d9cc4",
   "metadata": {
    "tags": []
   },
   "outputs": [],
   "source": [
    "c = np.ones((3,))"
   ]
  },
  {
   "cell_type": "code",
   "execution_count": 302,
   "id": "9adf64bd-6893-44ed-9bce-5af7fc325981",
   "metadata": {
    "tags": []
   },
   "outputs": [
    {
     "ename": "ValueError",
     "evalue": "operands could not be broadcast together with shapes (3,5) (3,) ",
     "output_type": "error",
     "traceback": [
      "\u001b[0;31m---------------------------------------------------------------------------\u001b[0m",
      "\u001b[0;31mValueError\u001b[0m                                Traceback (most recent call last)",
      "Cell \u001b[0;32mIn[302], line 1\u001b[0m\n\u001b[0;32m----> 1\u001b[0m a \u001b[38;5;241m+\u001b[39m c\n",
      "\u001b[0;31mValueError\u001b[0m: operands could not be broadcast together with shapes (3,5) (3,) "
     ]
    }
   ],
   "source": [
    "a + c"
   ]
  },
  {
   "cell_type": "code",
   "execution_count": 303,
   "id": "d510f7b7-1223-4bf2-98f5-9c289e8f150b",
   "metadata": {
    "tags": []
   },
   "outputs": [
    {
     "data": {
      "text/plain": [
       "array([1., 1., 1., 1., 1.])"
      ]
     },
     "execution_count": 303,
     "metadata": {},
     "output_type": "execute_result"
    }
   ],
   "source": [
    "b"
   ]
  },
  {
   "cell_type": "code",
   "execution_count": 304,
   "id": "561fc849-d460-4b76-b927-c20a51e7b0a4",
   "metadata": {
    "tags": []
   },
   "outputs": [
    {
     "data": {
      "text/plain": [
       "(5,)"
      ]
     },
     "execution_count": 304,
     "metadata": {},
     "output_type": "execute_result"
    }
   ],
   "source": [
    "b.shape"
   ]
  },
  {
   "cell_type": "code",
   "execution_count": 305,
   "id": "72ff54f4-8c39-4f39-9c3b-8ed76893c10b",
   "metadata": {
    "tags": []
   },
   "outputs": [
    {
     "data": {
      "text/plain": [
       "array([[1., 1., 1., 1., 1.]])"
      ]
     },
     "execution_count": 305,
     "metadata": {},
     "output_type": "execute_result"
    }
   ],
   "source": [
    "b.reshape(1,5)"
   ]
  },
  {
   "cell_type": "code",
   "execution_count": 306,
   "id": "dc9d0185-d808-4519-801d-e3266931eac3",
   "metadata": {
    "tags": []
   },
   "outputs": [
    {
     "data": {
      "text/plain": [
       "array([[1., 1., 1., 1., 1.]])"
      ]
     },
     "execution_count": 306,
     "metadata": {},
     "output_type": "execute_result"
    }
   ],
   "source": [
    "b[np.newaxis, :]"
   ]
  },
  {
   "cell_type": "code",
   "execution_count": 308,
   "id": "800d6354-8823-4c74-bd37-4f763e456c02",
   "metadata": {
    "tags": []
   },
   "outputs": [
    {
     "data": {
      "text/plain": [
       "<memory at 0x117779480>"
      ]
     },
     "execution_count": 308,
     "metadata": {},
     "output_type": "execute_result"
    }
   ],
   "source": [
    "b.data"
   ]
  },
  {
   "cell_type": "code",
   "execution_count": null,
   "id": "51c4cb8f-2a84-4e95-81d6-4e88a82e86b8",
   "metadata": {},
   "outputs": [],
   "source": []
  }
 ],
 "metadata": {
  "kernelspec": {
   "display_name": "Python 3 (ipykernel)",
   "language": "python",
   "name": "python3"
  },
  "language_info": {
   "codemirror_mode": {
    "name": "ipython",
    "version": 3
   },
   "file_extension": ".py",
   "mimetype": "text/x-python",
   "name": "python",
   "nbconvert_exporter": "python",
   "pygments_lexer": "ipython3",
   "version": "3.11.4"
  }
 },
 "nbformat": 4,
 "nbformat_minor": 5
}
