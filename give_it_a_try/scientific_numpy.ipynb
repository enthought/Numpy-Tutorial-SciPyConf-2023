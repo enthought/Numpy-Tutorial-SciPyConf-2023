{
 "cells": [
  {
   "cell_type": "markdown",
   "id": "0c9f83ca",
   "metadata": {},
   "source": [
    "# Numpy"
   ]
  },
  {
   "cell_type": "code",
   "execution_count": null,
   "id": "78755d68",
   "metadata": {},
   "outputs": [],
   "source": [
    "import numpy as np"
   ]
  },
  {
   "cell_type": "markdown",
   "id": "7d864567",
   "metadata": {},
   "source": [
    "## Array creation and modification"
   ]
  },
  {
   "cell_type": "markdown",
   "id": "24b72ef9",
   "metadata": {
    "lang": "en"
   },
   "source": [
    "Create a simple array, check type, size, dimension, and modify/ append values."
   ]
  },
  {
   "cell_type": "markdown",
   "id": "b94d3f3d",
   "metadata": {},
   "source": [
    "## Array slice"
   ]
  },
  {
   "cell_type": "markdown",
   "id": "694bc081",
   "metadata": {
    "lang": "en"
   },
   "source": [
    "With the provided array below, extract the slices as indicated."
   ]
  },
  {
   "cell_type": "markdown",
   "id": "b7b60774",
   "metadata": {},
   "source": [
    "<img src=\"../img/numpy_slice.png\" alt=\"numpy slice\" width=\"300\"/>"
   ]
  },
  {
   "cell_type": "code",
   "execution_count": null,
   "id": "116784cb",
   "metadata": {},
   "outputs": [],
   "source": [
    "a = np.arange(25).reshape(5, 5)"
   ]
  },
  {
   "cell_type": "code",
   "execution_count": null,
   "id": "8aae98d4",
   "metadata": {
    "canopy_exercise": {
     "cell_type": "student_solution"
    },
    "collapsed": false
   },
   "outputs": [],
   "source": [
    "# your code goes here"
   ]
  },
  {
   "cell_type": "markdown",
   "id": "582494dc",
   "metadata": {
    "canopy_exercise": {
     "cell_type": "solution_button"
    }
   },
   "source": [
    "<details>\n",
    "    <summary>Click here to see a <strong>solution</strong>.</summary>\n",
    "\n",
    "```python\n",
    "a[:,1::2] # red\n",
    "a[1::2, :3:2] # blue\n",
    "a[-1] # yellow\n",
    "```\n",
    "\n",
    "</details>"
   ]
  },
  {
   "cell_type": "markdown",
   "id": "822b052f",
   "metadata": {},
   "source": [
    "## Fancy indexing"
   ]
  },
  {
   "cell_type": "markdown",
   "id": "5ff209b6",
   "metadata": {
    "lang": "en"
   },
   "source": [
    "With the provided array blow,\n",
    "\n",
    "1. extract the elements indicated in blue.\n",
    "1. extract all the numbers divisible by 3 using a boolean mask."
   ]
  },
  {
   "cell_type": "markdown",
   "id": "6d1e9220",
   "metadata": {},
   "source": [
    "<img src='../img/numpy_fancy_index.png' alt=\"numpy fancy index\" width=\"300\"/>"
   ]
  },
  {
   "cell_type": "code",
   "execution_count": null,
   "id": "60466683",
   "metadata": {},
   "outputs": [],
   "source": [
    "a = np.arange(25).reshape(5, 5)"
   ]
  },
  {
   "cell_type": "code",
   "execution_count": null,
   "id": "5f751187",
   "metadata": {
    "canopy_exercise": {
     "cell_type": "student_solution"
    },
    "collapsed": false
   },
   "outputs": [],
   "source": [
    "# your code goes here"
   ]
  },
  {
   "cell_type": "markdown",
   "id": "925f22ce",
   "metadata": {
    "canopy_exercise": {
     "cell_type": "solution_button"
    }
   },
   "source": [
    "<details>\n",
    "    <summary>Click here to see a <strong>solution</strong>.</summary>\n",
    "\n",
    "```python\n",
    "a[[0, 1, 2 ,3], [3,1,0,4]]\n",
    "mask = a % 3 == 0\n",
    "a[mask]\n",
    "```\n",
    "\n",
    "</details>"
   ]
  },
  {
   "cell_type": "markdown",
   "id": "d7d581ca",
   "metadata": {},
   "source": [
    "## Array Methods"
   ]
  },
  {
   "cell_type": "markdown",
   "id": "b6b22b84",
   "metadata": {
    "lang": "en"
   },
   "source": [
    "Create the array below with\n",
    "\n",
    "1. The maximum of each row\n",
    "1. The mean of each column\n",
    "1. The position of the overall minimum"
   ]
  },
  {
   "cell_type": "markdown",
   "id": "a9f88eec",
   "metadata": {},
   "source": [
    "<img src='../img/numpy_array_methods.png' alt=\"numpy fancy index\" width=\"300\"/>"
   ]
  },
  {
   "cell_type": "code",
   "execution_count": null,
   "id": "67979f6f",
   "metadata": {},
   "outputs": [],
   "source": [
    "a = np.arange(-15, 15).reshape(5, 6) ** 2"
   ]
  },
  {
   "cell_type": "code",
   "execution_count": null,
   "id": "5aa1998c",
   "metadata": {
    "canopy_exercise": {
     "cell_type": "student_solution"
    },
    "collapsed": false
   },
   "outputs": [],
   "source": [
    "# your code goes here"
   ]
  },
  {
   "cell_type": "markdown",
   "id": "ab1ce448",
   "metadata": {
    "canopy_exercise": {
     "cell_type": "solution_button"
    }
   },
   "source": [
    "<details>\n",
    "    <summary>Click here to see a <strong>solution</strong>.</summary>\n",
    "\n",
    "```python\n",
    "a.max(axis=1)\n",
    "a.mean(axis=0)\n",
    "\n",
    "np.where(a==0)\n",
    "np.unravel_index(a.argmin(), a.shape)\n",
    "i_row = a.min(axis=1).argmin()\n",
    "i_col = a.min(axis=0).argmin()\n",
    "```\n",
    "\n",
    "</details>"
   ]
  },
  {
   "cell_type": "markdown",
   "id": "9208ccdf",
   "metadata": {},
   "source": [
    "## Reshaping Array"
   ]
  },
  {
   "cell_type": "markdown",
   "id": "edc64ab6",
   "metadata": {},
   "source": [
    "Give example for reshaping and flattening."
   ]
  }
 ],
 "metadata": {
  "canopy_exercise": {
   "__metadata_version__": 1
  },
  "jupytext": {
   "formats": "md:myst"
  },
  "kernelspec": {
   "display_name": "python-class",
   "language": "python",
   "name": "python-class"
  }
 },
 "nbformat": 4,
 "nbformat_minor": 5
}
